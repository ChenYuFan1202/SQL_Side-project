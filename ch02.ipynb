{
 "cells": [
  {
   "cell_type": "markdown",
   "metadata": {},
   "source": [
    "# Ch2 Numpy基本運算函式"
   ]
  },
  {
   "cell_type": "markdown",
   "metadata": {},
   "source": [
    "## 2-1 陣列重塑-reshape()、resize()"
   ]
  },
  {
   "cell_type": "code",
   "execution_count": 2,
   "metadata": {},
   "outputs": [
    {
     "name": "stdout",
     "output_type": "stream",
     "text": [
      "[ 0  1  2  3  4  5  6  7  8  9 10 11]\n",
      "[[ 0  1  2  3]\n",
      " [ 4  5  6  7]\n",
      " [ 8  9 10 11]]\n"
     ]
    },
    {
     "data": {
      "text/plain": [
       "array([[ 0,  1,  2,  3],\n",
       "       [ 4,  5,  6,  7],\n",
       "       [ 8,  9, 10, 11]])"
      ]
     },
     "execution_count": 2,
     "metadata": {},
     "output_type": "execute_result"
    }
   ],
   "source": [
    "import numpy as np\n",
    "\n",
    "a = np.arange(12)\n",
    "print(a)\n",
    "\n",
    "print(a.reshape(3, 4))\n",
    "\n",
    "b = np.reshape(a, (3, 4))\n",
    "b"
   ]
  },
  {
   "cell_type": "code",
   "execution_count": 3,
   "metadata": {},
   "outputs": [
    {
     "name": "stdout",
     "output_type": "stream",
     "text": [
      "[[ 0  0  2  3]\n",
      " [ 4  5  6  7]\n",
      " [ 8  9 10 11]]\n",
      "[ 0  0  2  3  4  5  6  7  8  9 10 11]\n"
     ]
    }
   ],
   "source": [
    "b[0, 1] = 0\n",
    "print(b)\n",
    "print(a)"
   ]
  },
  {
   "cell_type": "code",
   "execution_count": 4,
   "metadata": {},
   "outputs": [
    {
     "name": "stdout",
     "output_type": "stream",
     "text": [
      "2384727955216\n",
      "2384732123376\n"
     ]
    }
   ],
   "source": [
    "print(id(a))\n",
    "print(id(b))"
   ]
  },
  {
   "cell_type": "code",
   "execution_count": 5,
   "metadata": {},
   "outputs": [
    {
     "name": "stdout",
     "output_type": "stream",
     "text": [
      "[[ 0  1  2  3]\n",
      " [ 4  5  6  7]\n",
      " [ 8  9 10 11]]\n"
     ]
    },
    {
     "data": {
      "text/plain": [
       "array([[ 0,  3,  6,  9],\n",
       "       [ 1,  4,  7, 10],\n",
       "       [ 2,  5,  8, 11]])"
      ]
     },
     "execution_count": 5,
     "metadata": {},
     "output_type": "execute_result"
    }
   ],
   "source": [
    "c = np.arange(12)\n",
    "\n",
    "d = np.reshape(c, (3, 4), order = \"C\")\n",
    "print(d)\n",
    "d = np.reshape(c, (3, 4), order = \"F\")\n",
    "d"
   ]
  },
  {
   "cell_type": "code",
   "execution_count": 6,
   "metadata": {},
   "outputs": [
    {
     "name": "stdout",
     "output_type": "stream",
     "text": [
      "[[ 0  1  2  3]\n",
      " [ 4  5  6  7]\n",
      " [ 8  9 10 11]]\n"
     ]
    },
    {
     "data": {
      "text/plain": [
       "array([[ 0,  1,  2,  3,  4,  5],\n",
       "       [ 6,  7,  8,  9, 10, 11]])"
      ]
     },
     "execution_count": 6,
     "metadata": {},
     "output_type": "execute_result"
    }
   ],
   "source": [
    "# np.reshape(c, (3, 5))\n",
    "a = np.arange(12)\n",
    "print(np.reshape(a, (3, -1)))\n",
    "np.reshape(a, (-1, 6))"
   ]
  },
  {
   "cell_type": "code",
   "execution_count": 7,
   "metadata": {},
   "outputs": [
    {
     "name": "stdout",
     "output_type": "stream",
     "text": [
      "[[ 0  1  2  3]\n",
      " [ 4  5  6  7]\n",
      " [ 8  9 10 11]]\n",
      "[[ 0  1  2  3]\n",
      " [ 4  5  6  7]\n",
      " [ 8  9 10 11]]\n"
     ]
    },
    {
     "ename": "ValueError",
     "evalue": "cannot reshape array of size 15 into shape (3,4)",
     "output_type": "error",
     "traceback": [
      "\u001b[1;31m---------------------------------------------------------------------------\u001b[0m",
      "\u001b[1;31mValueError\u001b[0m                                Traceback (most recent call last)",
      "Cell \u001b[1;32mIn[7], line 5\u001b[0m\n\u001b[0;32m      3\u001b[0m b \u001b[38;5;241m=\u001b[39m np\u001b[38;5;241m.\u001b[39marange(\u001b[38;5;241m12\u001b[39m)\u001b[38;5;241m.\u001b[39mreshape((\u001b[38;5;241m3\u001b[39m, \u001b[38;5;241m-\u001b[39m\u001b[38;5;241m1\u001b[39m))\n\u001b[0;32m      4\u001b[0m \u001b[38;5;28mprint\u001b[39m(b)\n\u001b[1;32m----> 5\u001b[0m c \u001b[38;5;241m=\u001b[39m np\u001b[38;5;241m.\u001b[39marange(\u001b[38;5;241m15\u001b[39m)\u001b[38;5;241m.\u001b[39mreshape((\u001b[38;5;241m3\u001b[39m, \u001b[38;5;241m4\u001b[39m))\n",
      "\u001b[1;31mValueError\u001b[0m: cannot reshape array of size 15 into shape (3,4)"
     ]
    }
   ],
   "source": [
    "a = np.arange(12).reshape((3, 4))\n",
    "print(a)\n",
    "b = np.arange(12).reshape((3, -1))\n",
    "print(b)\n",
    "c = np.arange(15).reshape((3, 4))"
   ]
  },
  {
   "cell_type": "code",
   "execution_count": null,
   "metadata": {},
   "outputs": [
    {
     "name": "stdout",
     "output_type": "stream",
     "text": [
      "[[ 0  1  2  3]\n",
      " [ 4  5  6  7]\n",
      " [ 8  9 10 11]]\n",
      "[[ 0  1  2  3  4]\n",
      " [ 5  6  7  8  9]\n",
      " [10 11  0  1  2]]\n"
     ]
    },
    {
     "data": {
      "text/plain": [
       "array([[0, 1],\n",
       "       [2, 3],\n",
       "       [4, 5]])"
      ]
     },
     "execution_count": 43,
     "metadata": {},
     "output_type": "execute_result"
    }
   ],
   "source": [
    "a = np.arange(12)\n",
    "print(np.reshape(a, (3, 4)))\n",
    "print(np.resize(a, (3, 5)))\n",
    "np.resize(a, (3, 2))"
   ]
  },
  {
   "cell_type": "code",
   "execution_count": null,
   "metadata": {},
   "outputs": [
    {
     "name": "stdout",
     "output_type": "stream",
     "text": [
      "[[ 0  0  2  3]\n",
      " [ 4  5  6  7]\n",
      " [ 8  9 10 11]]\n",
      "[ 0  1  2  3  4  5  6  7  8  9 10 11]\n",
      "1562736598480 1562736605104\n"
     ]
    }
   ],
   "source": [
    "b = np.resize(a, (3, 4))\n",
    "b[0, 1] = 0\n",
    "print(b)\n",
    "print(a)\n",
    "print(id(a), id(b))"
   ]
  },
  {
   "cell_type": "markdown",
   "metadata": {},
   "source": [
    "## 2-2 在陣列最後面加入元素"
   ]
  },
  {
   "cell_type": "code",
   "execution_count": null,
   "metadata": {},
   "outputs": [
    {
     "name": "stdout",
     "output_type": "stream",
     "text": [
      "[ 0  1  2  3  4  5  6  7  8  9 10 11  6  4  2]\n",
      "[[ 0  1  2  3]\n",
      " [ 4  5  6  7]\n",
      " [ 8  9 10 11]]\n"
     ]
    },
    {
     "data": {
      "text/plain": [
       "array([ 0,  1,  2,  3,  4,  5,  6,  7,  8,  9, 10, 11,  1,  2,  3,  4])"
      ]
     },
     "execution_count": 56,
     "metadata": {},
     "output_type": "execute_result"
    }
   ],
   "source": [
    "import numpy as np\n",
    "\n",
    "a = np.arange(12)\n",
    "print(np.append(a, [6, 4, 2]))\n",
    "\n",
    "b = np.arange(12).reshape((3, 4))\n",
    "print(b)\n",
    "\n",
    "np.append(b, [1, 2, 3, 4])\n"
   ]
  },
  {
   "cell_type": "code",
   "execution_count": null,
   "metadata": {},
   "outputs": [
    {
     "name": "stdout",
     "output_type": "stream",
     "text": [
      "[[ 0  1  2  3]\n",
      " [ 4  5  6  7]\n",
      " [ 8  9 10 11]]\n",
      "[[ 0  1  2  3]\n",
      " [ 4  5  6  7]\n",
      " [ 8  9 10 11]\n",
      " [12 13 14 15]]\n"
     ]
    },
    {
     "ename": "ValueError",
     "evalue": "all the input arrays must have same number of dimensions, but the array at index 0 has 2 dimension(s) and the array at index 1 has 1 dimension(s)",
     "output_type": "error",
     "traceback": [
      "\u001b[1;31m---------------------------------------------------------------------------\u001b[0m",
      "\u001b[1;31mValueError\u001b[0m                                Traceback (most recent call last)",
      "Cell \u001b[1;32mIn[63], line 3\u001b[0m\n\u001b[0;32m      1\u001b[0m \u001b[38;5;28mprint\u001b[39m(b)\n\u001b[0;32m      2\u001b[0m \u001b[38;5;28mprint\u001b[39m(np\u001b[38;5;241m.\u001b[39mappend(b, [[\u001b[38;5;241m12\u001b[39m, \u001b[38;5;241m13\u001b[39m, \u001b[38;5;241m14\u001b[39m, \u001b[38;5;241m15\u001b[39m]], axis \u001b[38;5;241m=\u001b[39m \u001b[38;5;241m0\u001b[39m))\n\u001b[1;32m----> 3\u001b[0m np\u001b[38;5;241m.\u001b[39mappend(b, [\u001b[38;5;241m12\u001b[39m, \u001b[38;5;241m13\u001b[39m, \u001b[38;5;241m14\u001b[39m, \u001b[38;5;241m15\u001b[39m], axis \u001b[38;5;241m=\u001b[39m \u001b[38;5;241m0\u001b[39m)\n",
      "File \u001b[1;32m<__array_function__ internals>:200\u001b[0m, in \u001b[0;36mappend\u001b[1;34m(*args, **kwargs)\u001b[0m\n",
      "File \u001b[1;32mc:\\Users\\Vick\\anaconda3\\Lib\\site-packages\\numpy\\lib\\function_base.py:5499\u001b[0m, in \u001b[0;36mappend\u001b[1;34m(arr, values, axis)\u001b[0m\n\u001b[0;32m   5497\u001b[0m     values \u001b[38;5;241m=\u001b[39m ravel(values)\n\u001b[0;32m   5498\u001b[0m     axis \u001b[38;5;241m=\u001b[39m arr\u001b[38;5;241m.\u001b[39mndim\u001b[38;5;241m-\u001b[39m\u001b[38;5;241m1\u001b[39m\n\u001b[1;32m-> 5499\u001b[0m \u001b[38;5;28;01mreturn\u001b[39;00m concatenate((arr, values), axis\u001b[38;5;241m=\u001b[39maxis)\n",
      "File \u001b[1;32m<__array_function__ internals>:200\u001b[0m, in \u001b[0;36mconcatenate\u001b[1;34m(*args, **kwargs)\u001b[0m\n",
      "\u001b[1;31mValueError\u001b[0m: all the input arrays must have same number of dimensions, but the array at index 0 has 2 dimension(s) and the array at index 1 has 1 dimension(s)"
     ]
    }
   ],
   "source": [
    "print(b)\n",
    "print(np.append(b, [[12, 13, 14, 15]], axis = 0))\n",
    "np.append(b, [12, 13, 14, 15], axis = 0)"
   ]
  },
  {
   "cell_type": "code",
   "execution_count": null,
   "metadata": {},
   "outputs": [
    {
     "name": "stdout",
     "output_type": "stream",
     "text": [
      "[[ 0  1  2  3]\n",
      " [ 4  5  6  7]\n",
      " [ 8  9 10 11]]\n",
      "[[ 0  1  2  3  6]\n",
      " [ 4  5  6  7  6]\n",
      " [ 8  9 10 11  6]]\n",
      "[[ 0.          2.36363636  4.72727273  7.09090909]\n",
      " [ 9.45454545 11.81818182 14.18181818 16.54545455]\n",
      " [18.90909091 21.27272727 23.63636364 26.        ]]\n",
      "[[ 0.          1.          2.          3.        ]\n",
      " [ 4.          5.          6.          7.        ]\n",
      " [ 8.          9.         10.         11.        ]\n",
      " [ 0.          2.36363636  4.72727273  7.09090909]\n",
      " [ 9.45454545 11.81818182 14.18181818 16.54545455]\n",
      " [18.90909091 21.27272727 23.63636364 26.        ]]\n"
     ]
    },
    {
     "data": {
      "text/plain": [
       "array([[ 0.        ,  1.        ,  2.        ,  3.        ,  0.        ,\n",
       "         2.36363636,  4.72727273,  7.09090909],\n",
       "       [ 4.        ,  5.        ,  6.        ,  7.        ,  9.45454545,\n",
       "        11.81818182, 14.18181818, 16.54545455],\n",
       "       [ 8.        ,  9.        , 10.        , 11.        , 18.90909091,\n",
       "        21.27272727, 23.63636364, 26.        ]])"
      ]
     },
     "execution_count": 73,
     "metadata": {},
     "output_type": "execute_result"
    }
   ],
   "source": [
    "c = np.arange(12).reshape((3, 4))\n",
    "print(c)\n",
    "print(np.append(c, [[6], [6], [6]], axis = 1))\n",
    "d = np.linspace(0, 26, 12).reshape((3, 4))\n",
    "print(d)\n",
    "print(np.append(c, d, axis = 0))\n",
    "np.append(c, d, axis = 1)"
   ]
  },
  {
   "cell_type": "code",
   "execution_count": null,
   "metadata": {},
   "outputs": [
    {
     "name": "stdout",
     "output_type": "stream",
     "text": [
      "(3, 1)\n"
     ]
    },
    {
     "data": {
      "text/plain": [
       "(1, 3)"
      ]
     },
     "execution_count": 77,
     "metadata": {},
     "output_type": "execute_result"
    }
   ],
   "source": [
    "print(np.array([[6], [6], [6]]).shape)\n",
    "np.array([[1, 2, 3]]).shape"
   ]
  },
  {
   "cell_type": "markdown",
   "metadata": {},
   "source": [
    "## 2-3 判斷陣列真假值-all()與any()"
   ]
  },
  {
   "cell_type": "code",
   "execution_count": null,
   "metadata": {},
   "outputs": [
    {
     "name": "stdout",
     "output_type": "stream",
     "text": [
      "False\n",
      "[[1. 1. 1.]\n",
      " [1. 1. 1.]\n",
      " [1. 1. 1.]]\n",
      "True\n",
      "True\n",
      "True\n",
      "[ True False  True]\n",
      "[ True False False]\n"
     ]
    }
   ],
   "source": [
    "import numpy as np\n",
    "\n",
    "a = np.array([\n",
    "    [1, 1, 1], \n",
    "    [1, 0, 1], \n",
    "    [1, 0, 1]\n",
    "])\n",
    "print(np.all(a))\n",
    "\n",
    "b = np.ones((3, 3))\n",
    "print(b)\n",
    "print(np.all(b))\n",
    "print(np.all(a < 2))\n",
    "print(np.all(b % 3 == 1))\n",
    "print(np.all(a, axis = 0))\n",
    "print(np.all(a, axis = 1))"
   ]
  },
  {
   "cell_type": "code",
   "execution_count": null,
   "metadata": {},
   "outputs": [
    {
     "name": "stdout",
     "output_type": "stream",
     "text": [
      "[[ True False  True]]\n",
      "False\n",
      "True\n",
      "[ True False False]\n",
      "[[ True  True  True]\n",
      " [ True  True  True]\n",
      " [ True  True  True]]\n",
      "True\n"
     ]
    },
    {
     "data": {
      "text/plain": [
       "array([[False]])"
      ]
     },
     "execution_count": 106,
     "metadata": {},
     "output_type": "execute_result"
    }
   ],
   "source": [
    "print(np.all(a, axis = 0, keepdims = True))\n",
    "print(a.all())\n",
    "print(b.all())\n",
    "print(a.all(axis = 1))\n",
    "print(a < 2)\n",
    "print((a < 2).all())\n",
    "a.all(keepdims = True)"
   ]
  },
  {
   "cell_type": "code",
   "execution_count": null,
   "metadata": {},
   "outputs": [
    {
     "name": "stdout",
     "output_type": "stream",
     "text": [
      "[[6 0 0]\n",
      " [8 9 2]]\n",
      "True\n",
      "False\n",
      "[ True  True  True]\n",
      "[False  True]\n"
     ]
    }
   ],
   "source": [
    "a = np.random.randint(10, size = (2, 3)) # 數字有可能重複\n",
    "print(a)\n",
    "print(np.any(a == 9))\n",
    "print(np.any(a == 5))\n",
    "print(np.any(a % 2 == 0, axis = 0))\n",
    "print(np.any(a % 2 == 1, axis = 1))"
   ]
  },
  {
   "cell_type": "code",
   "execution_count": null,
   "metadata": {},
   "outputs": [
    {
     "name": "stdout",
     "output_type": "stream",
     "text": [
      "[[False]\n",
      " [ True]]\n",
      "[[ True]]\n"
     ]
    }
   ],
   "source": [
    "print(np.any(a % 2 == 1, axis = 1, keepdims = True))\n",
    "print(np.any(a > 2, keepdims = True))"
   ]
  },
  {
   "cell_type": "code",
   "execution_count": null,
   "metadata": {},
   "outputs": [
    {
     "name": "stdout",
     "output_type": "stream",
     "text": [
      "True\n",
      "True\n",
      "[[2 0 8]\n",
      " [3 4 8]]\n",
      "[ True False]\n",
      "[[ True]\n",
      " [False]]\n"
     ]
    }
   ],
   "source": [
    "print((a % 5 == 0).any())\n",
    "print((a > 3).any())\n",
    "b = np.random.randint(10, size = (2, 3))\n",
    "print(b)\n",
    "print((a == b).any(axis = 1))\n",
    "print((a == b).any(axis = 1, keepdims = True))"
   ]
  },
  {
   "cell_type": "markdown",
   "metadata": {},
   "source": [
    "## 2-4 找出符合條件的元素-where()"
   ]
  },
  {
   "cell_type": "code",
   "execution_count": null,
   "metadata": {},
   "outputs": [
    {
     "name": "stdout",
     "output_type": "stream",
     "text": [
      "[20 18 16 14 12 10  8  6  4  2]\n",
      "(array([6, 7, 8, 9], dtype=int64),)\n"
     ]
    },
    {
     "data": {
      "text/plain": [
       "array([8, 6, 4, 2])"
      ]
     },
     "execution_count": 142,
     "metadata": {},
     "output_type": "execute_result"
    }
   ],
   "source": [
    "a = np.arange(20, 0, -2)\n",
    "print(a)\n",
    "print(np.where(a < 10))\n",
    "a[np.where(a < 10)] # 也可以加[0]將位置取出來"
   ]
  },
  {
   "cell_type": "code",
   "execution_count": null,
   "metadata": {},
   "outputs": [
    {
     "name": "stdout",
     "output_type": "stream",
     "text": [
      "[[ 0  1  2  3]\n",
      " [ 4  5  6  7]\n",
      " [ 8  9 10 11]]\n",
      "(array([0, 0, 1, 1, 2, 2], dtype=int64), array([0, 2, 0, 2, 0, 2], dtype=int64))\n"
     ]
    },
    {
     "data": {
      "text/plain": [
       "array([ 0,  2,  4,  6,  8, 10])"
      ]
     },
     "execution_count": 146,
     "metadata": {},
     "output_type": "execute_result"
    }
   ],
   "source": [
    "a = np.arange(12).reshape((3, 4))\n",
    "print(a)\n",
    "print(np.where(a % 2 == 0))\n",
    "a[np.where(a % 2 == 0)]"
   ]
  },
  {
   "cell_type": "code",
   "execution_count": null,
   "metadata": {},
   "outputs": [
    {
     "name": "stdout",
     "output_type": "stream",
     "text": [
      "[['even' 'odd' 'even' 'odd']\n",
      " ['even' 'odd' 'even' 'odd']\n",
      " ['even' 'odd' 'even' 'odd']]\n",
      "[[ 0  1  2  3]\n",
      " [ 4  5  6  7]\n",
      " [ 8  9 10 11]]\n",
      "[[ 0  1  2  3]\n",
      " [ 4  5  6  7]\n",
      " [ 8  9 10 11]]\n",
      "[[  0   1   4   9]\n",
      " [ 16  25  36  49]\n",
      " [ 64  81 100 121]]\n"
     ]
    },
    {
     "data": {
      "text/plain": [
       "array([[  0,   1,   2,   9],\n",
       "       [  4,  25,   6,  49],\n",
       "       [  8,  81,  10, 121]])"
      ]
     },
     "execution_count": 152,
     "metadata": {},
     "output_type": "execute_result"
    }
   ],
   "source": [
    "print(np.where(a % 2 == 0, \"even\", \"odd\"))\n",
    "print(a)\n",
    "# np.where(a % 2 == 0, \"even\")\n",
    "b = np.reshape(a, (3, 4))\n",
    "print(b)\n",
    "c = b ** 2\n",
    "print(c)\n",
    "np.where(b % 2 == 0, b, c)"
   ]
  },
  {
   "cell_type": "markdown",
   "metadata": {},
   "source": [
    "## 2-5 取出最大值、最小值-amax()與amin()"
   ]
  },
  {
   "cell_type": "code",
   "execution_count": null,
   "metadata": {},
   "outputs": [
    {
     "data": {
      "text/plain": [
       "3"
      ]
     },
     "execution_count": 4,
     "metadata": {},
     "output_type": "execute_result"
    }
   ],
   "source": [
    "import numpy as np\n",
    "\n",
    "np.amax(np.array([1, 2, 3, 2, 1]))"
   ]
  },
  {
   "cell_type": "code",
   "execution_count": null,
   "metadata": {},
   "outputs": [
    {
     "name": "stdout",
     "output_type": "stream",
     "text": [
      "[[1 2]\n",
      " [3 4]]\n",
      "[3 4]\n",
      "[2 4]\n"
     ]
    },
    {
     "data": {
      "text/plain": [
       "array([[4]])"
      ]
     },
     "execution_count": 8,
     "metadata": {},
     "output_type": "execute_result"
    }
   ],
   "source": [
    "arr = np.array([1, 2, 3, 4]).reshape((2, 2))\n",
    "print(arr)\n",
    "print(np.amax(arr, axis = 0))\n",
    "print(np.amax(arr, axis = 1))\n",
    "np.amax(arr, keepdims = True)"
   ]
  },
  {
   "cell_type": "code",
   "execution_count": null,
   "metadata": {},
   "outputs": [
    {
     "name": "stdout",
     "output_type": "stream",
     "text": [
      "[[[ 7 13 25 16 11]\n",
      "  [ 0 25 14 11  9]\n",
      "  [15  6  8  6 17]]\n",
      "\n",
      " [[29 12 22 19 17]\n",
      "  [ 3 15 27  0 26]\n",
      "  [ 6  4  6 25 10]]]\n",
      "[[29 13 25 19 17]\n",
      " [ 3 25 27 11 26]\n",
      " [15  6  8 25 17]]\n",
      "[[15 25 25 16 17]\n",
      " [29 15 27 25 26]]\n",
      "[[25 25 17]\n",
      " [29 27 25]]\n"
     ]
    }
   ],
   "source": [
    "b = np.random.randint(30, size = (2, 3, 5))\n",
    "print(b)\n",
    "print(b.max(axis = 0))\n",
    "print(b.max(axis = 1))\n",
    "print(b.max(axis = 2))"
   ]
  },
  {
   "cell_type": "code",
   "execution_count": null,
   "metadata": {},
   "outputs": [
    {
     "name": "stdout",
     "output_type": "stream",
     "text": [
      "[[1.2 1.3 0.1 1.5]\n",
      " [2.1 0.2 0.3 2. ]\n",
      " [0.1 0.5 0.5 2.3]]\n",
      "0.1\n",
      "[0.1 0.2 0.1 1.5]\n",
      "[0.1 0.2 0.1]\n",
      "[[0.1 0.2 0.1 1.5]]\n",
      "[[0.1]\n",
      " [0.2]\n",
      " [0.1]]\n"
     ]
    }
   ],
   "source": [
    "a = np.array([\n",
    "    [1.2, 1.3, 0.1, 1.5], \n",
    "    [2.1, 0.2, 0.3, 2.0], \n",
    "    [0.1, 0.5, 0.5, 2.3]\n",
    "])\n",
    "print(a)\n",
    "print(np.amin(a))\n",
    "print(np.amin(a, axis = 0))\n",
    "print(np.amin(a, axis = 1))\n",
    "print(np.amin(a, axis = 0, keepdims = True))\n",
    "print(np.amin(a, axis = 1, keepdims = True))"
   ]
  },
  {
   "cell_type": "markdown",
   "metadata": {},
   "source": [
    "## 2-6 取出最大值、最小值的索引位置-argmax()、argmin()"
   ]
  },
  {
   "cell_type": "code",
   "execution_count": null,
   "metadata": {},
   "outputs": [
    {
     "name": "stdout",
     "output_type": "stream",
     "text": [
      "[2 5 7 8 6 2 6 1 9 6]\n",
      "8\n",
      "8\n"
     ]
    }
   ],
   "source": [
    "import numpy as np\n",
    "\n",
    "a = np.random.randint(10, size = 10)\n",
    "print(a)\n",
    "print(np.argmax(a))\n",
    "print(a.argmax())"
   ]
  },
  {
   "cell_type": "code",
   "execution_count": null,
   "metadata": {},
   "outputs": [
    {
     "name": "stdout",
     "output_type": "stream",
     "text": [
      "[[7 8 2 9]\n",
      " [4 1 2 6]\n",
      " [6 8 8 0]]\n",
      "3\n",
      "[0 0 2 0]\n",
      "[3 3 1]\n"
     ]
    }
   ],
   "source": [
    "b = np.random.randint(10, size = (3, 4))\n",
    "print(b)\n",
    "print(np.argmax(b))\n",
    "print(np.argmax(b, axis = 0))\n",
    "print(np.argmax(b, axis = 1))"
   ]
  },
  {
   "cell_type": "code",
   "execution_count": null,
   "metadata": {},
   "outputs": [
    {
     "name": "stdout",
     "output_type": "stream",
     "text": [
      "[[[0 1 3 3]\n",
      "  [9 0 7 8]\n",
      "  [5 3 4 6]]\n",
      "\n",
      " [[5 9 9 3]\n",
      "  [5 1 7 4]\n",
      "  [7 3 2 3]]]\n",
      "[[1 1 1 0]\n",
      " [0 1 0 0]\n",
      " [1 0 0 0]]\n",
      "[[1 2 1 1]\n",
      " [2 0 0 1]]\n",
      "[[2 0 3]\n",
      " [1 2 0]]\n"
     ]
    }
   ],
   "source": [
    "c = np.random.randint(10, size = (2, 3, 4))\n",
    "print(c)\n",
    "print(np.argmax(c, axis = 0))\n",
    "print(np.argmax(c, axis = 1))\n",
    "print(np.argmax(c, axis = 2))"
   ]
  },
  {
   "cell_type": "code",
   "execution_count": null,
   "metadata": {},
   "outputs": [
    {
     "name": "stdout",
     "output_type": "stream",
     "text": [
      "[[1.2 1.5 2.3 1.8]\n",
      " [0.2 2.5 2.1 2. ]\n",
      " [3.1 3.3 1.5 2.1]]\n",
      "4\n",
      "[1 0 2 0]\n",
      "[0 0 2]\n",
      "[0 0 2]\n"
     ]
    }
   ],
   "source": [
    "d = np.array([\n",
    "    [1.2, 1.5, 2.3, 1.8], \n",
    "    [0.2, 2.5, 2.1, 2.0], \n",
    "    [3.1, 3.3, 1.5, 2.1]\n",
    "])\n",
    "print(d)\n",
    "print(np.argmin(d))\n",
    "print(np.argmin(d, axis = 0))\n",
    "print(np.argmin(d, axis = 1))\n",
    "print(d.argmin(axis = 1))"
   ]
  },
  {
   "cell_type": "markdown",
   "metadata": {},
   "source": [
    "## 2-7 陣列轉置-transpose()\n"
   ]
  },
  {
   "cell_type": "code",
   "execution_count": 8,
   "metadata": {},
   "outputs": [
    {
     "name": "stdout",
     "output_type": "stream",
     "text": [
      "[[ 0  1  2  3]\n",
      " [ 4  5  6  7]\n",
      " [ 8  9 10 11]]\n",
      "[[ 0  4  8]\n",
      " [ 1  5  9]\n",
      " [ 2  6 10]\n",
      " [ 3  7 11]]\n",
      "[[ 0  4  8]\n",
      " [ 1  5  9]\n",
      " [ 2  6 10]\n",
      " [ 3  7 11]]\n"
     ]
    }
   ],
   "source": [
    "import numpy as np\n",
    "\n",
    "a = np.arange(12).reshape((3, 4))\n",
    "print(a)\n",
    "print(np.transpose(a))\n",
    "print(np.transpose(a, axes = (1, 0))) # 不寫axes = 也可以"
   ]
  },
  {
   "cell_type": "code",
   "execution_count": 9,
   "metadata": {},
   "outputs": [
    {
     "name": "stdout",
     "output_type": "stream",
     "text": [
      "[0 1 2 3 4 5]\n",
      "[0 1 2 3 4 5]\n",
      "(6,)\n",
      "[[0 1 2 3 4 5]]\n",
      "[[0]\n",
      " [1]\n",
      " [2]\n",
      " [3]\n",
      " [4]\n",
      " [5]]\n"
     ]
    }
   ],
   "source": [
    "b = np.arange(6)\n",
    "print(b)\n",
    "print(np.transpose(b))\n",
    "print(b.shape)\n",
    "b = b.reshape((1, 6))\n",
    "print(b)\n",
    "print(np.transpose(b))"
   ]
  },
  {
   "cell_type": "code",
   "execution_count": 10,
   "metadata": {},
   "outputs": [
    {
     "name": "stdout",
     "output_type": "stream",
     "text": [
      "[[[ 0  1]\n",
      "  [ 2  3]\n",
      "  [ 4  5]]\n",
      "\n",
      " [[ 6  7]\n",
      "  [ 8  9]\n",
      "  [10 11]]\n",
      "\n",
      " [[12 13]\n",
      "  [14 15]\n",
      "  [16 17]]\n",
      "\n",
      " [[18 19]\n",
      "  [20 21]\n",
      "  [22 23]]]\n",
      "[[[ 0  6 12 18]\n",
      "  [ 2  8 14 20]\n",
      "  [ 4 10 16 22]]\n",
      "\n",
      " [[ 1  7 13 19]\n",
      "  [ 3  9 15 21]\n",
      "  [ 5 11 17 23]]]\n",
      "[[[ 0  1]\n",
      "  [ 6  7]\n",
      "  [12 13]\n",
      "  [18 19]]\n",
      "\n",
      " [[ 2  3]\n",
      "  [ 8  9]\n",
      "  [14 15]\n",
      "  [20 21]]\n",
      "\n",
      " [[ 4  5]\n",
      "  [10 11]\n",
      "  [16 17]\n",
      "  [22 23]]]\n"
     ]
    }
   ],
   "source": [
    "c = np.arange(24).reshape((4, 3, 2))\n",
    "print(c)\n",
    "print(np.transpose(c))\n",
    "print(np.transpose(c, axes = (1, 0, 2)))"
   ]
  },
  {
   "cell_type": "code",
   "execution_count": 14,
   "metadata": {},
   "outputs": [
    {
     "name": "stdout",
     "output_type": "stream",
     "text": [
      "[[[ 0  6 12 18]\n",
      "  [ 2  8 14 20]\n",
      "  [ 4 10 16 22]]\n",
      "\n",
      " [[ 1  7 13 19]\n",
      "  [ 3  9 15 21]\n",
      "  [ 5 11 17 23]]]\n",
      "(4, 3, 2)\n",
      "(2, 3, 4)\n",
      "[[[ 0  1]\n",
      "  [ 6  7]\n",
      "  [12 13]\n",
      "  [18 19]]\n",
      "\n",
      " [[ 2  3]\n",
      "  [ 8  9]\n",
      "  [14 15]\n",
      "  [20 21]]\n",
      "\n",
      " [[ 4  5]\n",
      "  [10 11]\n",
      "  [16 17]\n",
      "  [22 23]]]\n",
      "(3, 4, 2)\n"
     ]
    }
   ],
   "source": [
    "print(c.transpose())\n",
    "print(c.shape)\n",
    "print(c.transpose().shape)\n",
    "print(c.transpose((1, 0, 2)))\n",
    "print(c.transpose((1, 0, 2)).shape)"
   ]
  },
  {
   "cell_type": "code",
   "execution_count": 12,
   "metadata": {},
   "outputs": [
    {
     "name": "stdout",
     "output_type": "stream",
     "text": [
      "[[ 0  1  2  3]\n",
      " [ 4  5  6  7]\n",
      " [ 8  9 10 11]]\n",
      "[[ 0  4  8]\n",
      " [ 1  5  9]\n",
      " [ 2  6 10]\n",
      " [ 3  7 11]]\n",
      "[[0 1 2 3 4 5]]\n",
      "[[0]\n",
      " [1]\n",
      " [2]\n",
      " [3]\n",
      " [4]\n",
      " [5]]\n",
      "[[[ 0  1]\n",
      "  [ 2  3]\n",
      "  [ 4  5]]\n",
      "\n",
      " [[ 6  7]\n",
      "  [ 8  9]\n",
      "  [10 11]]\n",
      "\n",
      " [[12 13]\n",
      "  [14 15]\n",
      "  [16 17]]\n",
      "\n",
      " [[18 19]\n",
      "  [20 21]\n",
      "  [22 23]]]\n",
      "[[[ 0  6 12 18]\n",
      "  [ 2  8 14 20]\n",
      "  [ 4 10 16 22]]\n",
      "\n",
      " [[ 1  7 13 19]\n",
      "  [ 3  9 15 21]\n",
      "  [ 5 11 17 23]]]\n",
      "True\n",
      "True\n",
      "True\n"
     ]
    }
   ],
   "source": [
    "print(a)\n",
    "print(a.T)\n",
    "print(b)\n",
    "print(b.T)\n",
    "print(c)\n",
    "print(c.T)\n",
    "print(a.transpose().shape == a.T.shape)\n",
    "print(b.transpose().shape == b.T.shape)\n",
    "print(np.transpose(c).shape == c.T.shape)"
   ]
  },
  {
   "cell_type": "markdown",
   "metadata": {},
   "source": [
    "## 2-8 陣列排序-sort()與argsort()"
   ]
  },
  {
   "cell_type": "code",
   "execution_count": 22,
   "metadata": {},
   "outputs": [
    {
     "name": "stdout",
     "output_type": "stream",
     "text": [
      "[24 54 83 92 57 75 96 82 73 91 97 49 37 37 38  6 30 90 39 89]\n",
      "[ 6 24 30 37 37 38 39 49 54 57 73 75 82 83 89 90 91 92 96 97]\n",
      "[1 3 2]\n",
      "[0 2 1]\n"
     ]
    }
   ],
   "source": [
    "import numpy as np\n",
    "\n",
    "a = np.random.randint(0, 100, size = 20)\n",
    "print(a)\n",
    "print(np.sort(a))\n",
    "a = np.array([1, 3, 2])\n",
    "print(a)\n",
    "print(np.argsort(a))"
   ]
  },
  {
   "cell_type": "code",
   "execution_count": 27,
   "metadata": {},
   "outputs": [
    {
     "name": "stdout",
     "output_type": "stream",
     "text": [
      "[[15 76 77 22 40]\n",
      " [63 33 45 95 15]\n",
      " [80 28 71 75 48]\n",
      " [90 97 48  1 28]]\n",
      "[[15 22 40 76 77]\n",
      " [15 33 45 63 95]\n",
      " [28 48 71 75 80]\n",
      " [ 1 28 48 90 97]]\n",
      "[[0 3 4 1 2]\n",
      " [4 1 2 0 3]\n",
      " [1 4 2 3 0]\n",
      " [3 4 2 0 1]]\n",
      "[[15 28 45  1 15]\n",
      " [63 33 48 22 28]\n",
      " [80 76 71 75 40]\n",
      " [90 97 77 95 48]]\n",
      "[[0 2 1 3 1]\n",
      " [1 1 3 0 3]\n",
      " [2 0 2 2 0]\n",
      " [3 3 0 1 2]]\n"
     ]
    }
   ],
   "source": [
    "b = np.random.randint(0, 100, size = 20).reshape((4, 5))\n",
    "print(b)\n",
    "print(np.sort(b))\n",
    "print(np.argsort(b))\n",
    "print(np.sort(b, axis = 0))\n",
    "print(np.argsort(b, axis = 0))"
   ]
  },
  {
   "cell_type": "code",
   "execution_count": 30,
   "metadata": {},
   "outputs": [
    {
     "name": "stdout",
     "output_type": "stream",
     "text": [
      "[[[70 59 35 63 72]\n",
      "  [90 93  9 83 22]\n",
      "  [13 41 78 55 65]\n",
      "  [80 69 94 55 31]]\n",
      "\n",
      " [[66 40 52 96 13]\n",
      "  [85 40  6 34 17]\n",
      "  [79 49 27 66 21]\n",
      "  [72  2 76 64 91]]]\n",
      "[[[66 40 35 63 13]\n",
      "  [85 40  6 34 17]\n",
      "  [13 41 27 55 21]\n",
      "  [72  2 76 55 31]]\n",
      "\n",
      " [[70 59 52 96 72]\n",
      "  [90 93  9 83 22]\n",
      "  [79 49 78 66 65]\n",
      "  [80 69 94 64 91]]]\n",
      "[[[1 1 0 0 1]\n",
      "  [1 1 1 1 1]\n",
      "  [0 0 1 0 1]\n",
      "  [1 1 1 0 0]]\n",
      "\n",
      " [[0 0 1 1 0]\n",
      "  [0 0 0 0 0]\n",
      "  [1 1 0 1 0]\n",
      "  [0 0 0 1 1]]]\n"
     ]
    }
   ],
   "source": [
    "c = np.random.randint(0, 100, size = (2, 4, 5))\n",
    "print(c)\n",
    "print(np.sort(c, axis = 0))\n",
    "print(np.argsort(c, axis = 0))"
   ]
  },
  {
   "cell_type": "code",
   "execution_count": 55,
   "metadata": {},
   "outputs": [
    {
     "name": "stdout",
     "output_type": "stream",
     "text": [
      "[(b'Alice', 25, 9.7) (b'Bob', 12, 7.6) (b'Catherine',  1, 8.6)\n",
      " (b'David', 10, 7.6)]\n",
      "[(b'Bob', 12, 7.6) (b'David', 10, 7.6) (b'Catherine',  1, 8.6)\n",
      " (b'Alice', 25, 9.7)]\n",
      "[1 3 2 0]\n",
      "[(b'David', 10, 7.6) (b'Bob', 12, 7.6) (b'Catherine',  1, 8.6)\n",
      " (b'Alice', 25, 9.7)]\n"
     ]
    }
   ],
   "source": [
    "values = [(\"Alice\", 25, 9.7), (\"Bob\", 12, 7.6), (\"Catherine\", 1, 8.6), (\"David\", 10, 7.6)]\n",
    "dt = [(\"name\", \"S10\"), (\"ID\", int), (\"score\", float)]\n",
    "a = np.array(values, dtype = dt)\n",
    "print(a)\n",
    "print(np.sort(a, order = \"score\"))\n",
    "print(np.argsort(a, order = \"score\"))\n",
    "print(np.sort(a, order = [\"score\", \"ID\"]))"
   ]
  },
  {
   "cell_type": "code",
   "execution_count": 42,
   "metadata": {},
   "outputs": [
    {
     "name": "stdout",
     "output_type": "stream",
     "text": [
      "[86 95 90  1 57 38 53 10 82  2 59  4 30 98 54 49 48 34 29 71]\n",
      "[ 1  2  4 10 29 30 34 38 48 49 53 54 57 59 71 82 86 90 95 98]\n",
      "[86 95 90  1 57 38 53 10 82  2 59  4 30 98 54 49 48 34 29 71]\n",
      "None\n",
      "[ 1  2  4 10 29 30 34 38 48 49 53 54 57 59 71 82 86 90 95 98]\n"
     ]
    }
   ],
   "source": [
    "a = np.random.randint(0, 100, size = 20) # 不用size也可以\n",
    "print(a)\n",
    "print(np.sort(a))\n",
    "print(a)\n",
    "print(a.sort())\n",
    "print(a)"
   ]
  },
  {
   "cell_type": "markdown",
   "metadata": {},
   "source": [
    "## 2-9 陣列合併-hstack()與vstack()"
   ]
  },
  {
   "cell_type": "code",
   "execution_count": 53,
   "metadata": {},
   "outputs": [
    {
     "data": {
      "text/plain": [
       "[1, 2, 3, 4, 5]"
      ]
     },
     "execution_count": 53,
     "metadata": {},
     "output_type": "execute_result"
    }
   ],
   "source": [
    "a = np.array([1, 2, 3])\n",
    "b = np.array([4, 5])\n",
    "np.append(a, b)\n",
    "c = [1, 2, 3]\n",
    "d = [4, 5]\n",
    "c + d"
   ]
  },
  {
   "cell_type": "code",
   "execution_count": 59,
   "metadata": {},
   "outputs": [
    {
     "name": "stdout",
     "output_type": "stream",
     "text": [
      "[ 0  1  2  3  4  5  6  7  8  9 10 11]\n",
      "[0 1]\n"
     ]
    },
    {
     "data": {
      "text/plain": [
       "array([ 0,  1,  2,  3,  4,  5,  6,  7,  8,  9, 10, 11,  0,  1])"
      ]
     },
     "execution_count": 59,
     "metadata": {},
     "output_type": "execute_result"
    }
   ],
   "source": [
    "import numpy as np\n",
    "\n",
    "a = np.arange(12)\n",
    "b = np.arange(2)\n",
    "print(a)\n",
    "print(b)\n",
    "np.hstack((a, b))"
   ]
  },
  {
   "cell_type": "code",
   "execution_count": 74,
   "metadata": {},
   "outputs": [
    {
     "name": "stdout",
     "output_type": "stream",
     "text": [
      "[[0 1]\n",
      " [2 3]]\n",
      "[[0 1 2]\n",
      " [3 4 5]]\n",
      "[[0 1 0 1 2]\n",
      " [2 3 3 4 5]]\n"
     ]
    },
    {
     "data": {
      "text/plain": [
       "array([[0, 1, 0, 1, 2],\n",
       "       [2, 3, 3, 4, 5]])"
      ]
     },
     "execution_count": 74,
     "metadata": {},
     "output_type": "execute_result"
    }
   ],
   "source": [
    "c = np.arange(4).reshape((2, 2))\n",
    "print(c)\n",
    "# print(np.hstack((a, c)))\n",
    "d = np.arange(6).reshape((2, 3))\n",
    "print(d)\n",
    "print(np.hstack((c, d)))\n",
    "np.append(arr = c, values = d, axis = 1)"
   ]
  },
  {
   "cell_type": "code",
   "execution_count": 66,
   "metadata": {},
   "outputs": [
    {
     "name": "stdout",
     "output_type": "stream",
     "text": [
      "[[[ 0  1  2]\n",
      "  [ 3  4  5]]\n",
      "\n",
      " [[ 6  7  8]\n",
      "  [ 9 10 11]]]\n",
      "[[[0 1 2]]\n",
      "\n",
      " [[3 4 5]]]\n"
     ]
    },
    {
     "data": {
      "text/plain": [
       "array([[[ 0,  1,  2],\n",
       "        [ 3,  4,  5],\n",
       "        [ 0,  1,  2]],\n",
       "\n",
       "       [[ 6,  7,  8],\n",
       "        [ 9, 10, 11],\n",
       "        [ 3,  4,  5]]])"
      ]
     },
     "execution_count": 66,
     "metadata": {},
     "output_type": "execute_result"
    }
   ],
   "source": [
    "e = np.arange(12).reshape((2, 2, 3))\n",
    "f = np.arange(6).reshape((2, 1, 3))\n",
    "print(e)\n",
    "print(f)\n",
    "np.hstack((e, f))"
   ]
  },
  {
   "cell_type": "code",
   "execution_count": 68,
   "metadata": {},
   "outputs": [
    {
     "name": "stdout",
     "output_type": "stream",
     "text": [
      "[[0 1 2]\n",
      " [3 4 5]]\n",
      "[[0 1]\n",
      " [2 3]\n",
      " [4 5]\n",
      " [6 7]]\n"
     ]
    },
    {
     "ename": "ValueError",
     "evalue": "all the input array dimensions except for the concatenation axis must match exactly, but along dimension 0, the array at index 0 has size 2 and the array at index 1 has size 4",
     "output_type": "error",
     "traceback": [
      "\u001b[1;31m---------------------------------------------------------------------------\u001b[0m",
      "\u001b[1;31mValueError\u001b[0m                                Traceback (most recent call last)",
      "Cell \u001b[1;32mIn[68], line 5\u001b[0m\n\u001b[0;32m      3\u001b[0m \u001b[38;5;28mprint\u001b[39m(a)\n\u001b[0;32m      4\u001b[0m \u001b[38;5;28mprint\u001b[39m(b)\n\u001b[1;32m----> 5\u001b[0m \u001b[38;5;28mprint\u001b[39m(np\u001b[38;5;241m.\u001b[39mhstack((a, b)))\n",
      "File \u001b[1;32m<__array_function__ internals>:200\u001b[0m, in \u001b[0;36mhstack\u001b[1;34m(*args, **kwargs)\u001b[0m\n",
      "File \u001b[1;32mc:\\Users\\Vick\\anaconda3\\Lib\\site-packages\\numpy\\core\\shape_base.py:370\u001b[0m, in \u001b[0;36mhstack\u001b[1;34m(tup, dtype, casting)\u001b[0m\n\u001b[0;32m    368\u001b[0m     \u001b[38;5;28;01mreturn\u001b[39;00m _nx\u001b[38;5;241m.\u001b[39mconcatenate(arrs, \u001b[38;5;241m0\u001b[39m, dtype\u001b[38;5;241m=\u001b[39mdtype, casting\u001b[38;5;241m=\u001b[39mcasting)\n\u001b[0;32m    369\u001b[0m \u001b[38;5;28;01melse\u001b[39;00m:\n\u001b[1;32m--> 370\u001b[0m     \u001b[38;5;28;01mreturn\u001b[39;00m _nx\u001b[38;5;241m.\u001b[39mconcatenate(arrs, \u001b[38;5;241m1\u001b[39m, dtype\u001b[38;5;241m=\u001b[39mdtype, casting\u001b[38;5;241m=\u001b[39mcasting)\n",
      "File \u001b[1;32m<__array_function__ internals>:200\u001b[0m, in \u001b[0;36mconcatenate\u001b[1;34m(*args, **kwargs)\u001b[0m\n",
      "\u001b[1;31mValueError\u001b[0m: all the input array dimensions except for the concatenation axis must match exactly, but along dimension 0, the array at index 0 has size 2 and the array at index 1 has size 4"
     ]
    }
   ],
   "source": [
    "a = np.arange(6).reshape((2, 3))\n",
    "b = np.arange(8).reshape((4, 2))\n",
    "print(a)\n",
    "print(b)\n",
    "print(np.hstack((a, b)))"
   ]
  },
  {
   "cell_type": "code",
   "execution_count": 79,
   "metadata": {},
   "outputs": [
    {
     "name": "stdout",
     "output_type": "stream",
     "text": [
      "[[ 0]\n",
      " [ 1]\n",
      " [ 2]\n",
      " [ 3]\n",
      " [ 4]\n",
      " [ 5]\n",
      " [ 6]\n",
      " [ 7]\n",
      " [ 8]\n",
      " [ 9]\n",
      " [10]\n",
      " [11]]\n",
      "[[0]\n",
      " [1]]\n",
      "[[ 0]\n",
      " [ 1]\n",
      " [ 2]\n",
      " [ 3]\n",
      " [ 4]\n",
      " [ 5]\n",
      " [ 6]\n",
      " [ 7]\n",
      " [ 8]\n",
      " [ 9]\n",
      " [10]\n",
      " [11]\n",
      " [ 0]\n",
      " [ 1]]\n",
      "[[0 1]]\n",
      "[[0 1]\n",
      " [2 3]]\n"
     ]
    },
    {
     "data": {
      "text/plain": [
       "array([[0, 1],\n",
       "       [0, 1],\n",
       "       [2, 3]])"
      ]
     },
     "execution_count": 79,
     "metadata": {},
     "output_type": "execute_result"
    }
   ],
   "source": [
    "a = np.arange(12).reshape((-1, 1))\n",
    "b = np.arange(2).reshape((-1, 1))\n",
    "print(a)\n",
    "print(b)\n",
    "print(np.vstack((a, b)))\n",
    "c = np.arange(2).reshape((1, 2))\n",
    "print(c)\n",
    "# np.vstack((a, c))\n",
    "d = np.arange(4).reshape((2, 2))\n",
    "print(d)\n",
    "np.vstack((c, d))"
   ]
  },
  {
   "cell_type": "code",
   "execution_count": 86,
   "metadata": {},
   "outputs": [
    {
     "name": "stdout",
     "output_type": "stream",
     "text": [
      "[[[ 0  1]\n",
      "  [ 2  3]\n",
      "  [ 4  5]]\n",
      "\n",
      " [[ 6  7]\n",
      "  [ 8  9]\n",
      "  [10 11]]\n",
      "\n",
      " [[12 13]\n",
      "  [14 15]\n",
      "  [16 17]]\n",
      "\n",
      " [[18 19]\n",
      "  [20 21]\n",
      "  [22 23]]]\n",
      "[[[0 1]\n",
      "  [2 3]\n",
      "  [4 5]]]\n",
      "[[[ 0  1]\n",
      "  [ 2  3]\n",
      "  [ 4  5]]\n",
      "\n",
      " [[ 6  7]\n",
      "  [ 8  9]\n",
      "  [10 11]]\n",
      "\n",
      " [[12 13]\n",
      "  [14 15]\n",
      "  [16 17]]\n",
      "\n",
      " [[18 19]\n",
      "  [20 21]\n",
      "  [22 23]]\n",
      "\n",
      " [[ 0  1]\n",
      "  [ 2  3]\n",
      "  [ 4  5]]]\n"
     ]
    },
    {
     "data": {
      "text/plain": [
       "(5, 3, 2)"
      ]
     },
     "execution_count": 86,
     "metadata": {},
     "output_type": "execute_result"
    }
   ],
   "source": [
    "e = np.arange(24).reshape((4, 3, 2))\n",
    "f = np.arange(6).reshape((1, 3, 2))\n",
    "print(e)\n",
    "print(f)\n",
    "g = np.vstack((e, f))\n",
    "print(g)\n",
    "g.shape"
   ]
  },
  {
   "cell_type": "markdown",
   "metadata": {},
   "source": [
    "## 2-10 建立元素都是0的陣列-zeros()"
   ]
  },
  {
   "cell_type": "code",
   "execution_count": 110,
   "metadata": {},
   "outputs": [
    {
     "name": "stdout",
     "output_type": "stream",
     "text": [
      "[0. 0. 0. 0. 0. 0. 0. 0. 0. 0.]\n",
      "[0 0 0 0 0 0 0 0 0 0]\n",
      "[[0. 0. 0. 0.]\n",
      " [0. 0. 0. 0.]\n",
      " [0. 0. 0. 0.]]\n"
     ]
    }
   ],
   "source": [
    "import numpy as np\n",
    "\n",
    "print(np.zeros(10))\n",
    "print(np.zeros(10, dtype = int))\n",
    "print(np.zeros(shape = (3, 4))) # 不用打shape也可以"
   ]
  },
  {
   "cell_type": "code",
   "execution_count": 112,
   "metadata": {},
   "outputs": [
    {
     "name": "stdout",
     "output_type": "stream",
     "text": [
      "[[ 0  1  2  3]\n",
      " [ 4  5  6  7]\n",
      " [ 8  9 10 11]]\n",
      "[[0. 0. 0. 0.]\n",
      " [0. 0. 0. 0.]\n",
      " [0. 0. 0. 0.]]\n",
      "[[0 0 0 0]\n",
      " [0 0 0 0]\n",
      " [0 0 0 0]]\n"
     ]
    }
   ],
   "source": [
    "a = np.arange(12).reshape((3, 4))\n",
    "print(a)\n",
    "print(np.zeros(a.shape))\n",
    "print(np.zeros_like(a))"
   ]
  },
  {
   "cell_type": "code",
   "execution_count": 92,
   "metadata": {},
   "outputs": [
    {
     "name": "stdout",
     "output_type": "stream",
     "text": [
      "[[ 0  1  2  3]\n",
      " [ 4  5  6  7]\n",
      " [ 8  9 10 11]]\n",
      "[[0. 0. 0. 0.]\n",
      " [0. 0. 0. 0.]\n",
      " [0. 0. 0. 0.]]\n"
     ]
    },
    {
     "data": {
      "text/plain": [
       "array([[0, 0, 0, 0],\n",
       "       [0, 0, 0, 0],\n",
       "       [0, 0, 0, 0]])"
      ]
     },
     "execution_count": 92,
     "metadata": {},
     "output_type": "execute_result"
    }
   ],
   "source": [
    "a = np.arange(12).reshape((3, 4))\n",
    "print(a)\n",
    "b = np.zeros(a.shape)\n",
    "print(b)\n",
    "c = np.zeros_like(a)\n",
    "c"
   ]
  },
  {
   "cell_type": "markdown",
   "metadata": {},
   "source": [
    "## 2-11 建立元素都是1的陣列-ones()"
   ]
  },
  {
   "cell_type": "code",
   "execution_count": 114,
   "metadata": {},
   "outputs": [
    {
     "data": {
      "text/plain": [
       "array([0.1])"
      ]
     },
     "execution_count": 114,
     "metadata": {},
     "output_type": "execute_result"
    }
   ],
   "source": [
    "import numpy as np\n",
    "\n",
    "np.ones(1) / 10"
   ]
  },
  {
   "cell_type": "code",
   "execution_count": 99,
   "metadata": {},
   "outputs": [
    {
     "name": "stdout",
     "output_type": "stream",
     "text": [
      "[1. 1. 1.]\n",
      "[[1. 1. 1.]\n",
      " [1. 1. 1.]]\n",
      "[1 1 1 1]\n"
     ]
    }
   ],
   "source": [
    "import numpy as np\n",
    "\n",
    "print(np.ones(3))\n",
    "print(np.ones((2, 3)))\n",
    "print(np.ones(4, dtype = np.int8))"
   ]
  },
  {
   "cell_type": "code",
   "execution_count": 115,
   "metadata": {},
   "outputs": [
    {
     "name": "stdout",
     "output_type": "stream",
     "text": [
      "[[1 2 3]\n",
      " [2 3 4]]\n",
      "[[1 1 1]\n",
      " [1 1 1]]\n",
      "[2 3 4]\n",
      "[1. 1. 1.]\n"
     ]
    },
    {
     "data": {
      "text/plain": [
       "array([1, 1, 1], dtype=int8)"
      ]
     },
     "execution_count": 115,
     "metadata": {},
     "output_type": "execute_result"
    }
   ],
   "source": [
    "a = np.array([[1, 2, 3], [2, 3, 4]])\n",
    "print(a)\n",
    "print(np.ones_like(a))\n",
    "b = np.array([2, 3, 4], dtype = \"int8\")\n",
    "print(b)\n",
    "print(np.ones(b.shape))\n",
    "np.ones_like(b)"
   ]
  },
  {
   "cell_type": "code",
   "execution_count": 116,
   "metadata": {},
   "outputs": [
    {
     "name": "stdout",
     "output_type": "stream",
     "text": [
      "[[0 1 2]\n",
      " [3 4 5]]\n",
      "[[1 1 1]\n",
      " [1 1 1]]\n"
     ]
    },
    {
     "data": {
      "text/plain": [
       "array([[1., 1., 1.],\n",
       "       [1., 1., 1.]])"
      ]
     },
     "execution_count": 116,
     "metadata": {},
     "output_type": "execute_result"
    }
   ],
   "source": [
    "a = np.arange(6).reshape((2, 3))\n",
    "print(a)\n",
    "b = np.ones_like(a)\n",
    "print(b) # ones_like的型別會和a一樣，ones則是預設浮點數\n",
    "c = np.ones(a.shape)\n",
    "c"
   ]
  },
  {
   "cell_type": "markdown",
   "metadata": {},
   "source": [
    "## 2-12 建立「不限定元素值」的陣列-empty()"
   ]
  },
  {
   "cell_type": "code",
   "execution_count": 137,
   "metadata": {},
   "outputs": [
    {
     "name": "stdout",
     "output_type": "stream",
     "text": [
      "[5.43230922e-312 0.00000000e+000 7.29112202e-304 0.00000000e+000\n",
      " 0.00000000e+000 0.00000000e+000 0.00000000e+000 4.94065646e-324\n",
      " 0.00000000e+000 0.00000000e+000 0.00000000e+000 0.00000000e+000\n",
      " 0.00000000e+000 0.00000000e+000 5.43230922e-312]\n",
      "[[6.95220731e-310 4.94065646e-324 6.95220733e-310]\n",
      " [1.42173718e-312 2.16939877e-317 4.94065646e-324]]\n",
      "[[[4.67296746e-307 1.69121096e-306 8.45599366e-307 1.11256817e-306]\n",
      "  [1.06811422e-306 1.42417221e-306 1.11260619e-306 8.90094053e-307]]\n",
      "\n",
      " [[1.86919378e-306 1.06809792e-306 1.37962456e-306 1.69111861e-306]\n",
      "  [1.78020169e-306 1.37961777e-306 7.56599807e-307 7.56599806e-307]]]\n"
     ]
    }
   ],
   "source": [
    "import numpy as np\n",
    "\n",
    "print(np.empty(15))\n",
    "print(np.empty((2, 3)))\n",
    "print(np.empty((2, 2, 4)))"
   ]
  },
  {
   "cell_type": "code",
   "execution_count": 140,
   "metadata": {},
   "outputs": [
    {
     "name": "stdout",
     "output_type": "stream",
     "text": [
      "2.96 µs ± 19.6 ns per loop (mean ± std. dev. of 7 runs, 100,000 loops each)\n",
      "4.72 µs ± 126 ns per loop (mean ± std. dev. of 7 runs, 100,000 loops each)\n",
      "643 ns ± 17.1 ns per loop (mean ± std. dev. of 7 runs, 1,000,000 loops each)\n"
     ]
    }
   ],
   "source": [
    "%timeit np.zeros(10000)\n",
    "%timeit np.ones(10000)\n",
    "%timeit np.empty(10000)"
   ]
  },
  {
   "cell_type": "markdown",
   "metadata": {},
   "source": [
    "## 2-13 建立指定範圍的等差陣列-arange()"
   ]
  },
  {
   "cell_type": "code",
   "execution_count": 148,
   "metadata": {},
   "outputs": [
    {
     "name": "stdout",
     "output_type": "stream",
     "text": [
      "[0 1 2 3 4]\n",
      "[]\n",
      "[0. 1. 2. 3. 4.]\n"
     ]
    }
   ],
   "source": [
    "import numpy as np\n",
    "\n",
    "print(np.arange(5))\n",
    "print(np.arange(-10))\n",
    "print(np.arange(stop = 4.5))"
   ]
  },
  {
   "cell_type": "code",
   "execution_count": 10,
   "metadata": {},
   "outputs": [
    {
     "name": "stdout",
     "output_type": "stream",
     "text": [
      "[1 2 3 4 5 6 7]\n",
      "[2 3 4 5 6 7 8 9]\n",
      "[0.5 1.5 2.5 3.5 4.5]\n",
      "[0.55 1.55 2.55 3.55 4.55]\n"
     ]
    }
   ],
   "source": [
    "print(np.arange(1, 8))\n",
    "print(np.arange(2, 10))\n",
    "print(np.arange(0.5, 5.5))\n",
    "print(np.arange(0.55, 5.55))"
   ]
  },
  {
   "cell_type": "code",
   "execution_count": 156,
   "metadata": {},
   "outputs": [
    {
     "name": "stdout",
     "output_type": "stream",
     "text": [
      "[ 2  4  6  8 10]\n",
      "[2.  2.2 2.4 2.6 2.8 3.  3.2 3.4 3.6 3.8 4.  4.2 4.4 4.6 4.8]\n",
      "[5 4 3]\n"
     ]
    },
    {
     "data": {
      "text/plain": [
       "array([0, 1, 2])"
      ]
     },
     "execution_count": 156,
     "metadata": {},
     "output_type": "execute_result"
    }
   ],
   "source": [
    "print(np.arange(2, 12, 2))\n",
    "print(np.arange(2, 5, 0.2))\n",
    "print(np.arange(5, 2, -1))\n",
    "np.arange(stop = 3, step = 1)"
   ]
  },
  {
   "cell_type": "code",
   "execution_count": 8,
   "metadata": {},
   "outputs": [
    {
     "name": "stdout",
     "output_type": "stream",
     "text": [
      "[0. 1. 2. 3. 4.]\n",
      "[0 1 2 3 4]\n",
      "[0 0 0 0 0 0 0 0 0 0]\n"
     ]
    },
    {
     "data": {
      "text/plain": [
       "array([0, 1, 2, 3])"
      ]
     },
     "execution_count": 8,
     "metadata": {},
     "output_type": "execute_result"
    }
   ],
   "source": [
    "import numpy as np\n",
    "\n",
    "print(np.arange(5, dtype = \"float64\"))\n",
    "print(np.arange(5.0, dtype = \"int\"))\n",
    "print(np.arange(0, 5, 0.5, dtype = \"int\"))\n",
    "np.arange(0, 5, 1.5, dtype = \"int\")"
   ]
  },
  {
   "cell_type": "markdown",
   "metadata": {},
   "source": [
    "## 2-14 建立指定範圍的等差數列-linspace()"
   ]
  },
  {
   "cell_type": "code",
   "execution_count": 1,
   "metadata": {},
   "outputs": [
    {
     "data": {
      "text/plain": [
       "array([4, 4], dtype=int64)"
      ]
     },
     "execution_count": 1,
     "metadata": {},
     "output_type": "execute_result"
    }
   ],
   "source": [
    "import numpy as np\n",
    "np.arange(10).reshape((2, 5)).argmax(-1) # 這邊-1和1的結果是一樣的"
   ]
  },
  {
   "cell_type": "code",
   "execution_count": 2,
   "metadata": {},
   "outputs": [
    {
     "data": {
      "text/plain": [
       "(array([ 0.        , -0.02040816, -0.04081633, -0.06122449, -0.08163265,\n",
       "        -0.10204082, -0.12244898, -0.14285714, -0.16326531, -0.18367347,\n",
       "        -0.20408163, -0.2244898 , -0.24489796, -0.26530612, -0.28571429,\n",
       "        -0.30612245, -0.32653061, -0.34693878, -0.36734694, -0.3877551 ,\n",
       "        -0.40816327, -0.42857143, -0.44897959, -0.46938776, -0.48979592,\n",
       "        -0.51020408, -0.53061224, -0.55102041, -0.57142857, -0.59183673,\n",
       "        -0.6122449 , -0.63265306, -0.65306122, -0.67346939, -0.69387755,\n",
       "        -0.71428571, -0.73469388, -0.75510204, -0.7755102 , -0.79591837,\n",
       "        -0.81632653, -0.83673469, -0.85714286, -0.87755102, -0.89795918,\n",
       "        -0.91836735, -0.93877551, -0.95918367, -0.97959184, -1.        ]),\n",
       " -0.02040816326530612)"
      ]
     },
     "execution_count": 2,
     "metadata": {},
     "output_type": "execute_result"
    }
   ],
   "source": [
    "import numpy as np\n",
    "\n",
    "np.linspace(0, -1, retstep = True)"
   ]
  },
  {
   "cell_type": "code",
   "execution_count": 24,
   "metadata": {},
   "outputs": [
    {
     "name": "stdout",
     "output_type": "stream",
     "text": [
      "[0.         0.02040816 0.04081633 0.06122449 0.08163265 0.10204082\n",
      " 0.12244898 0.14285714 0.16326531 0.18367347 0.20408163 0.2244898\n",
      " 0.24489796 0.26530612 0.28571429 0.30612245 0.32653061 0.34693878\n",
      " 0.36734694 0.3877551  0.40816327 0.42857143 0.44897959 0.46938776\n",
      " 0.48979592 0.51020408 0.53061224 0.55102041 0.57142857 0.59183673\n",
      " 0.6122449  0.63265306 0.65306122 0.67346939 0.69387755 0.71428571\n",
      " 0.73469388 0.75510204 0.7755102  0.79591837 0.81632653 0.83673469\n",
      " 0.85714286 0.87755102 0.89795918 0.91836735 0.93877551 0.95918367\n",
      " 0.97959184 1.        ]\n",
      "50\n"
     ]
    },
    {
     "data": {
      "text/plain": [
       "0.02040816326530612"
      ]
     },
     "execution_count": 24,
     "metadata": {},
     "output_type": "execute_result"
    }
   ],
   "source": [
    "import numpy as np\n",
    "\n",
    "print(np.linspace(0, 1))\n",
    "print(len(np.linspace(0, 1)))\n",
    "1 / (50 - 1)"
   ]
  },
  {
   "cell_type": "code",
   "execution_count": 28,
   "metadata": {},
   "outputs": [
    {
     "name": "stdout",
     "output_type": "stream",
     "text": [
      "[ 0.  1.  2.  3.  4.  5.  6.  7.  8.  9. 10. 11. 12. 13. 14. 15. 16. 17.\n",
      " 18. 19. 20. 21. 22. 23. 24. 25. 26. 27. 28. 29. 30. 31. 32. 33. 34. 35.\n",
      " 36. 37. 38. 39. 40. 41. 42. 43. 44. 45. 46. 47. 48. 49.]\n",
      "[0. 1. 2.]\n",
      "[ 0. -1. -2.]\n",
      "[0. 1. 2.]\n"
     ]
    }
   ],
   "source": [
    "print(np.linspace(0, 49))\n",
    "print(np.linspace(0, 2, 3))\n",
    "print(np.linspace(0, -2, 3))\n",
    "print(np.linspace(0, 2, num = 3))"
   ]
  },
  {
   "cell_type": "code",
   "execution_count": 31,
   "metadata": {},
   "outputs": [
    {
     "name": "stdout",
     "output_type": "stream",
     "text": [
      "[0.         0.66666667 1.33333333]\n",
      "0.6666666666666666\n"
     ]
    },
    {
     "data": {
      "text/plain": [
       "array([0., 1., 2.])"
      ]
     },
     "execution_count": 31,
     "metadata": {},
     "output_type": "execute_result"
    }
   ],
   "source": [
    "print(np.linspace(0, 2, num = 3, endpoint = False))\n",
    "print((2 - 0) / 3) # 元素變四個、切三刀、取前三個的概念\n",
    "np.linspace(0, 2, num = 3, endpoint = True)"
   ]
  },
  {
   "cell_type": "code",
   "execution_count": 35,
   "metadata": {},
   "outputs": [
    {
     "name": "stdout",
     "output_type": "stream",
     "text": [
      "(array([0.        , 0.02040816, 0.04081633, 0.06122449, 0.08163265,\n",
      "       0.10204082, 0.12244898, 0.14285714, 0.16326531, 0.18367347,\n",
      "       0.20408163, 0.2244898 , 0.24489796, 0.26530612, 0.28571429,\n",
      "       0.30612245, 0.32653061, 0.34693878, 0.36734694, 0.3877551 ,\n",
      "       0.40816327, 0.42857143, 0.44897959, 0.46938776, 0.48979592,\n",
      "       0.51020408, 0.53061224, 0.55102041, 0.57142857, 0.59183673,\n",
      "       0.6122449 , 0.63265306, 0.65306122, 0.67346939, 0.69387755,\n",
      "       0.71428571, 0.73469388, 0.75510204, 0.7755102 , 0.79591837,\n",
      "       0.81632653, 0.83673469, 0.85714286, 0.87755102, 0.89795918,\n",
      "       0.91836735, 0.93877551, 0.95918367, 0.97959184, 1.        ]), 0.02040816326530612)\n",
      "(array([0., 1., 2.]), 1.0)\n"
     ]
    },
    {
     "data": {
      "text/plain": [
       "array([0., 1., 2.])"
      ]
     },
     "execution_count": 35,
     "metadata": {},
     "output_type": "execute_result"
    }
   ],
   "source": [
    "print(np.linspace(0, 1, retstep = True))\n",
    "print(np.linspace(0, 2, num = 3, retstep = True))\n",
    "np.linspace(0, 2, num = 3, retstep = False)"
   ]
  },
  {
   "cell_type": "code",
   "execution_count": 36,
   "metadata": {},
   "outputs": [
    {
     "data": {
      "text/plain": [
       "(array([-4.        , -3.91919192, -3.83838384, -3.75757576, -3.67676768,\n",
       "        -3.5959596 , -3.51515152, -3.43434343, -3.35353535, -3.27272727,\n",
       "        -3.19191919, -3.11111111, -3.03030303, -2.94949495, -2.86868687,\n",
       "        -2.78787879, -2.70707071, -2.62626263, -2.54545455, -2.46464646,\n",
       "        -2.38383838, -2.3030303 , -2.22222222, -2.14141414, -2.06060606,\n",
       "        -1.97979798, -1.8989899 , -1.81818182, -1.73737374, -1.65656566,\n",
       "        -1.57575758, -1.49494949, -1.41414141, -1.33333333, -1.25252525,\n",
       "        -1.17171717, -1.09090909, -1.01010101, -0.92929293, -0.84848485,\n",
       "        -0.76767677, -0.68686869, -0.60606061, -0.52525253, -0.44444444,\n",
       "        -0.36363636, -0.28282828, -0.2020202 , -0.12121212, -0.04040404,\n",
       "         0.04040404,  0.12121212,  0.2020202 ,  0.28282828,  0.36363636,\n",
       "         0.44444444,  0.52525253,  0.60606061,  0.68686869,  0.76767677,\n",
       "         0.84848485,  0.92929293,  1.01010101,  1.09090909,  1.17171717,\n",
       "         1.25252525,  1.33333333,  1.41414141,  1.49494949,  1.57575758,\n",
       "         1.65656566,  1.73737374,  1.81818182,  1.8989899 ,  1.97979798,\n",
       "         2.06060606,  2.14141414,  2.22222222,  2.3030303 ,  2.38383838,\n",
       "         2.46464646,  2.54545455,  2.62626263,  2.70707071,  2.78787879,\n",
       "         2.86868687,  2.94949495,  3.03030303,  3.11111111,  3.19191919,\n",
       "         3.27272727,  3.35353535,  3.43434343,  3.51515152,  3.5959596 ,\n",
       "         3.67676768,  3.75757576,  3.83838384,  3.91919192,  4.        ]),\n",
       " 0.08080808080808081)"
      ]
     },
     "execution_count": 36,
     "metadata": {},
     "output_type": "execute_result"
    }
   ],
   "source": [
    "np.linspace(-4, 4, 100, retstep = True)"
   ]
  },
  {
   "cell_type": "markdown",
   "metadata": {},
   "source": [
    "## 2-15 建立單位矩陣-eye()與identity()"
   ]
  },
  {
   "cell_type": "code",
   "execution_count": 17,
   "metadata": {},
   "outputs": [
    {
     "data": {
      "text/plain": [
       "matrix([[0, 1, 2, 3, 4],\n",
       "        [5, 6, 7, 8, 9]])"
      ]
     },
     "execution_count": 17,
     "metadata": {},
     "output_type": "execute_result"
    }
   ],
   "source": [
    "np.matrix(np.arange(10).reshape(2, 5)) # 會變成matrix而不是array"
   ]
  },
  {
   "cell_type": "code",
   "execution_count": 5,
   "metadata": {},
   "outputs": [
    {
     "name": "stdout",
     "output_type": "stream",
     "text": [
      "[[1. 0. 0.]\n",
      " [0. 1. 0.]\n",
      " [0. 0. 1.]]\n"
     ]
    },
    {
     "data": {
      "text/plain": [
       "array([[1., 0., 0., 0., 0., 0., 0., 0., 0., 0.],\n",
       "       [0., 1., 0., 0., 0., 0., 0., 0., 0., 0.],\n",
       "       [0., 0., 1., 0., 0., 0., 0., 0., 0., 0.],\n",
       "       [0., 0., 0., 1., 0., 0., 0., 0., 0., 0.],\n",
       "       [0., 0., 0., 0., 1., 0., 0., 0., 0., 0.],\n",
       "       [0., 0., 0., 0., 0., 1., 0., 0., 0., 0.],\n",
       "       [0., 0., 0., 0., 0., 0., 1., 0., 0., 0.],\n",
       "       [0., 0., 0., 0., 0., 0., 0., 1., 0., 0.],\n",
       "       [0., 0., 0., 0., 0., 0., 0., 0., 1., 0.],\n",
       "       [0., 0., 0., 0., 0., 0., 0., 0., 0., 1.]])"
      ]
     },
     "execution_count": 5,
     "metadata": {},
     "output_type": "execute_result"
    }
   ],
   "source": [
    "import numpy as np\n",
    "\n",
    "print(np.eye(3))\n",
    "np.eye(10)"
   ]
  },
  {
   "cell_type": "code",
   "execution_count": 7,
   "metadata": {},
   "outputs": [
    {
     "name": "stdout",
     "output_type": "stream",
     "text": [
      "[[1. 0. 0.]\n",
      " [0. 1. 0.]]\n"
     ]
    },
    {
     "data": {
      "text/plain": [
       "array([[1., 0., 0., 0.],\n",
       "       [0., 1., 0., 0.],\n",
       "       [0., 0., 1., 0.],\n",
       "       [0., 0., 0., 1.],\n",
       "       [0., 0., 0., 0.]])"
      ]
     },
     "execution_count": 7,
     "metadata": {},
     "output_type": "execute_result"
    }
   ],
   "source": [
    "print(np.eye(2, 3))\n",
    "np.eye(5, 4)"
   ]
  },
  {
   "cell_type": "code",
   "execution_count": 11,
   "metadata": {},
   "outputs": [
    {
     "name": "stdout",
     "output_type": "stream",
     "text": [
      "[[1. 0. 0. 0. 0.]\n",
      " [0. 1. 0. 0. 0.]\n",
      " [0. 0. 1. 0. 0.]\n",
      " [0. 0. 0. 1. 0.]\n",
      " [0. 0. 0. 0. 1.]]\n",
      "[[0. 1. 0. 0. 0.]\n",
      " [0. 0. 1. 0. 0.]\n",
      " [0. 0. 0. 1. 0.]\n",
      " [0. 0. 0. 0. 1.]\n",
      " [0. 0. 0. 0. 0.]]\n",
      "[[0. 0. 0. 0. 0.]\n",
      " [1. 0. 0. 0. 0.]\n",
      " [0. 1. 0. 0. 0.]\n",
      " [0. 0. 1. 0. 0.]\n",
      " [0. 0. 0. 1. 0.]]\n"
     ]
    },
    {
     "data": {
      "text/plain": [
       "array([[0., 0., 0., 1., 0.],\n",
       "       [0., 0., 0., 0., 1.],\n",
       "       [0., 0., 0., 0., 0.],\n",
       "       [0., 0., 0., 0., 0.],\n",
       "       [0., 0., 0., 0., 0.]])"
      ]
     },
     "execution_count": 11,
     "metadata": {},
     "output_type": "execute_result"
    }
   ],
   "source": [
    "print(np.eye(5, k = 0))\n",
    "print(np.eye(5, k = 1))\n",
    "print(np.eye(5, k = -1))\n",
    "np.eye(5, k = 3)"
   ]
  },
  {
   "cell_type": "code",
   "execution_count": 13,
   "metadata": {},
   "outputs": [
    {
     "name": "stdout",
     "output_type": "stream",
     "text": [
      "[[1. 0. 0. 0. 0.]\n",
      " [0. 1. 0. 0. 0.]\n",
      " [0. 0. 1. 0. 0.]\n",
      " [0. 0. 0. 1. 0.]\n",
      " [0. 0. 0. 0. 1.]]\n"
     ]
    },
    {
     "data": {
      "text/plain": [
       "array([[1., 0.],\n",
       "       [0., 1.]])"
      ]
     },
     "execution_count": 13,
     "metadata": {},
     "output_type": "execute_result"
    }
   ],
   "source": [
    "print(np.identity(5))\n",
    "np.identity(2)"
   ]
  },
  {
   "cell_type": "code",
   "execution_count": 14,
   "metadata": {},
   "outputs": [
    {
     "name": "stdout",
     "output_type": "stream",
     "text": [
      "21 ms ± 1.16 ms per loop (mean ± std. dev. of 7 runs, 10 loops each)\n",
      "21.2 ms ± 962 µs per loop (mean ± std. dev. of 7 runs, 10 loops each)\n"
     ]
    }
   ],
   "source": [
    "%timeit np.eye(10000)\n",
    "%timeit np.identity(10000)"
   ]
  },
  {
   "cell_type": "markdown",
   "metadata": {},
   "source": [
    "## 2-16 將陣列展平為1D陣列-flatten()"
   ]
  },
  {
   "cell_type": "code",
   "execution_count": 23,
   "metadata": {},
   "outputs": [
    {
     "data": {
      "text/plain": [
       "array([1, 2, 3])"
      ]
     },
     "execution_count": 23,
     "metadata": {},
     "output_type": "execute_result"
    }
   ],
   "source": [
    "a = np.array([1, 2, 3])\n",
    "b = a.copy()\n",
    "a[0] = 4\n",
    "b"
   ]
  },
  {
   "cell_type": "code",
   "execution_count": 32,
   "metadata": {},
   "outputs": [
    {
     "name": "stdout",
     "output_type": "stream",
     "text": [
      "[[0 1 2 3 4]\n",
      " [5 6 7 8 9]]\n",
      "[[0 1 2 3 4]\n",
      " [5 6 7 8 9]]\n",
      "[0 1 2 3 4 5 6 7 8 9]\n",
      "(2, 5)\n"
     ]
    },
    {
     "data": {
      "text/plain": [
       "(10,)"
      ]
     },
     "execution_count": 32,
     "metadata": {},
     "output_type": "execute_result"
    }
   ],
   "source": [
    "import numpy as np\n",
    "\n",
    "a = np.arange(10).reshape((2, 5))\n",
    "print(a)\n",
    "b = a.flatten()\n",
    "print(a)\n",
    "print(b)\n",
    "print(a.shape)\n",
    "b.shape"
   ]
  },
  {
   "cell_type": "code",
   "execution_count": 28,
   "metadata": {},
   "outputs": [
    {
     "name": "stdout",
     "output_type": "stream",
     "text": [
      "[[[ 0  1  2]\n",
      "  [ 3  4  5]]\n",
      "\n",
      " [[ 6  7  8]\n",
      "  [ 9 10 11]]]\n",
      "[[[ 0  1  2]\n",
      "  [ 3  4  5]]\n",
      "\n",
      " [[ 6  7  8]\n",
      "  [ 9 10 11]]]\n",
      "[ 0  1  2  3  4  5  6  7  8  9 10 11]\n",
      "(2, 2, 3)\n"
     ]
    },
    {
     "data": {
      "text/plain": [
       "(12,)"
      ]
     },
     "execution_count": 28,
     "metadata": {},
     "output_type": "execute_result"
    }
   ],
   "source": [
    "c = np.arange(12).reshape((2, 2, 3))\n",
    "print(c)\n",
    "d = c.flatten()\n",
    "print(c)\n",
    "print(d)\n",
    "print(c.shape)\n",
    "d.shape"
   ]
  },
  {
   "cell_type": "markdown",
   "metadata": {},
   "source": [
    "## 2-17 將陣列展平為1D陣列-ravel()"
   ]
  },
  {
   "cell_type": "code",
   "execution_count": 38,
   "metadata": {},
   "outputs": [
    {
     "name": "stdout",
     "output_type": "stream",
     "text": [
      "[[0 1 2 3 4 5 6 7 8 9]]\n",
      "[[0 1 2 3 4]\n",
      " [5 6 7 8 9]]\n",
      "None\n"
     ]
    },
    {
     "data": {
      "text/plain": [
       "array([[0, 1, 2, 3, 4, 5, 6, 7, 8, 9]])"
      ]
     },
     "execution_count": 38,
     "metadata": {},
     "output_type": "execute_result"
    }
   ],
   "source": [
    "a = np.arange(10).reshape((2, 5))\n",
    "print(a.reshape((1, 10)))\n",
    "print(a)\n",
    "print(a.resize((1, 10)))\n",
    "a"
   ]
  },
  {
   "cell_type": "code",
   "execution_count": 43,
   "metadata": {},
   "outputs": [
    {
     "name": "stdout",
     "output_type": "stream",
     "text": [
      "[[0 1 2 3 4]\n",
      " [5 6 7 8 9]]\n",
      "[0 1 2 3 4 5 6 7 8 9]\n",
      "[0 1 2 3 4 5 6 7 8 9]\n"
     ]
    },
    {
     "data": {
      "text/plain": [
       "array([[0, 1, 2, 3, 4],\n",
       "       [5, 6, 7, 8, 9]])"
      ]
     },
     "execution_count": 43,
     "metadata": {},
     "output_type": "execute_result"
    }
   ],
   "source": [
    "import numpy as np\n",
    "\n",
    "a = np.arange(10).reshape((2, 5))\n",
    "print(a)\n",
    "print(a.ravel())\n",
    "print(np.ravel(a))\n",
    "a"
   ]
  },
  {
   "cell_type": "code",
   "execution_count": 47,
   "metadata": {},
   "outputs": [
    {
     "name": "stdout",
     "output_type": "stream",
     "text": [
      "[[0 1 2 3 4]\n",
      " [5 6 7 8 9]]\n",
      "[0 1 2 3 4 5 6 7 8 9]\n"
     ]
    },
    {
     "data": {
      "text/plain": [
       "array([0, 5, 1, 6, 2, 7, 3, 8, 4, 9])"
      ]
     },
     "execution_count": 47,
     "metadata": {},
     "output_type": "execute_result"
    }
   ],
   "source": [
    "print(a)\n",
    "print(a.ravel(order = \"C\"))\n",
    "a.ravel(order = \"F\")"
   ]
  },
  {
   "cell_type": "code",
   "execution_count": 53,
   "metadata": {},
   "outputs": [
    {
     "name": "stdout",
     "output_type": "stream",
     "text": [
      "[[0 2 4 6 8]\n",
      " [1 3 5 7 9]]\n",
      "[0 1 2 3 4 5 6 7 8 9]\n",
      "[0 1 2 3 4 5 6 7 8 9]\n"
     ]
    },
    {
     "data": {
      "text/plain": [
       "array([0, 2, 4, 6, 8, 1, 3, 5, 7, 9])"
      ]
     },
     "execution_count": 53,
     "metadata": {},
     "output_type": "execute_result"
    }
   ],
   "source": [
    "b = np.arange(10).reshape((2, 5), order = \"F\")\n",
    "print(b)\n",
    "print(b.ravel(order = \"F\"))\n",
    "print(b.ravel(order = \"A\"))\n",
    "b.ravel()"
   ]
  },
  {
   "cell_type": "markdown",
   "metadata": {},
   "source": [
    "## 2-18 找出不是0的元素-nonzero()"
   ]
  },
  {
   "cell_type": "code",
   "execution_count": 57,
   "metadata": {},
   "outputs": [
    {
     "name": "stdout",
     "output_type": "stream",
     "text": [
      "[[False  True  True  True  True]\n",
      " [ True  True  True  True  True]]\n",
      "(array([0, 0, 0, 0, 1, 1, 1, 1, 1], dtype=int64), array([1, 2, 3, 4, 0, 1, 2, 3, 4], dtype=int64))\n"
     ]
    }
   ],
   "source": [
    "print(a != 0)\n",
    "print(np.where(a != 0))"
   ]
  },
  {
   "cell_type": "code",
   "execution_count": 6,
   "metadata": {},
   "outputs": [
    {
     "name": "stdout",
     "output_type": "stream",
     "text": [
      "[9 8 9 0 6 1 9 6 5 0 0 7 2 7 2 4 8 5 6 6]\n",
      "(array([ 0,  1,  2,  4,  5,  6,  7,  8, 11, 12, 13, 14, 15, 16, 17, 18, 19],\n",
      "      dtype=int64),)\n",
      "(array([ 0,  1,  2,  4,  5,  6,  7,  8, 11, 12, 13, 14, 15, 16, 17, 18, 19],\n",
      "      dtype=int64),)\n"
     ]
    },
    {
     "data": {
      "text/plain": [
       "array([9, 8, 9, 6, 1, 9, 6, 5, 7, 2, 7, 2, 4, 8, 5, 6, 6])"
      ]
     },
     "execution_count": 6,
     "metadata": {},
     "output_type": "execute_result"
    }
   ],
   "source": [
    "import numpy as np\n",
    "\n",
    "a = np.random.randint(0, 10, size = 20)\n",
    "print(a)\n",
    "print(np.nonzero(a))\n",
    "print(a.nonzero())\n",
    "a[np.nonzero(a)]"
   ]
  },
  {
   "cell_type": "code",
   "execution_count": 12,
   "metadata": {},
   "outputs": [
    {
     "name": "stdout",
     "output_type": "stream",
     "text": [
      "[[6 5 4 7 4]\n",
      " [2 7 2 0 8]\n",
      " [7 1 9 4 0]\n",
      " [4 7 6 7 4]]\n",
      "(array([0, 0, 0, 0, 0, 1, 1, 1, 1, 2, 2, 2, 2, 3, 3, 3, 3, 3], dtype=int64), array([0, 1, 2, 3, 4, 0, 1, 2, 4, 0, 1, 2, 3, 0, 1, 2, 3, 4], dtype=int64))\n",
      "(array([0, 0, 0, 0, 0, 1, 1, 1, 1, 2, 2, 2, 2, 3, 3, 3, 3, 3], dtype=int64), array([0, 1, 2, 3, 4, 0, 1, 2, 4, 0, 1, 2, 3, 0, 1, 2, 3, 4], dtype=int64))\n"
     ]
    },
    {
     "data": {
      "text/plain": [
       "array([6, 5, 4, 7, 4, 2, 7, 2, 8, 7, 1, 9, 4, 4, 7, 6, 7, 4])"
      ]
     },
     "execution_count": 12,
     "metadata": {},
     "output_type": "execute_result"
    }
   ],
   "source": [
    "b = np.random.randint(0, 10, size = (4, 5))\n",
    "print(b)\n",
    "print(np.nonzero(b))\n",
    "print(b.nonzero())\n",
    "b[b.nonzero()]"
   ]
  },
  {
   "cell_type": "markdown",
   "metadata": {},
   "source": [
    "## 2-19 複製陣列元素，拼貼成新陣列-tile()"
   ]
  },
  {
   "cell_type": "code",
   "execution_count": 2,
   "metadata": {},
   "outputs": [
    {
     "name": "stdout",
     "output_type": "stream",
     "text": [
      "[0 1 2]\n",
      "[0 1 2 0 1 2]\n"
     ]
    }
   ],
   "source": [
    "import numpy as np\n",
    "\n",
    "a = np.array([0, 1, 2])\n",
    "print(a)\n",
    "print(np.tile(a, 2))"
   ]
  },
  {
   "cell_type": "code",
   "execution_count": 3,
   "metadata": {},
   "outputs": [
    {
     "data": {
      "text/plain": [
       "array([[0, 1, 2, 0, 1, 2],\n",
       "       [0, 1, 2, 0, 1, 2],\n",
       "       [0, 1, 2, 0, 1, 2]])"
      ]
     },
     "execution_count": 3,
     "metadata": {},
     "output_type": "execute_result"
    }
   ],
   "source": [
    "np.tile(a, (3, 2))"
   ]
  },
  {
   "cell_type": "code",
   "execution_count": 4,
   "metadata": {},
   "outputs": [
    {
     "data": {
      "text/plain": [
       "array([[[0, 1, 2, 0, 1, 2, 0, 1, 2, 0, 1, 2],\n",
       "        [0, 1, 2, 0, 1, 2, 0, 1, 2, 0, 1, 2],\n",
       "        [0, 1, 2, 0, 1, 2, 0, 1, 2, 0, 1, 2]],\n",
       "\n",
       "       [[0, 1, 2, 0, 1, 2, 0, 1, 2, 0, 1, 2],\n",
       "        [0, 1, 2, 0, 1, 2, 0, 1, 2, 0, 1, 2],\n",
       "        [0, 1, 2, 0, 1, 2, 0, 1, 2, 0, 1, 2]]])"
      ]
     },
     "execution_count": 4,
     "metadata": {},
     "output_type": "execute_result"
    }
   ],
   "source": [
    "np.tile(a, (2, 3, 4))"
   ]
  },
  {
   "cell_type": "markdown",
   "metadata": {},
   "source": [
    "## 2-20 增加陣列的軸數-np.newaxis物件"
   ]
  },
  {
   "cell_type": "code",
   "execution_count": 30,
   "metadata": {},
   "outputs": [
    {
     "name": "stdout",
     "output_type": "stream",
     "text": [
      "True\n",
      "[[ 0  1  2  3  4]\n",
      " [ 5  6  7  8  9]\n",
      " [10 11 12 13 14]]\n",
      "[[[ 0  1  2  3  4]\n",
      "  [ 5  6  7  8  9]\n",
      "  [10 11 12 13 14]]]\n",
      "[[[ 0  1  2  3  4]]\n",
      "\n",
      " [[ 5  6  7  8  9]]\n",
      "\n",
      " [[10 11 12 13 14]]]\n",
      "[[[ 0  1  2  3  4]]\n",
      "\n",
      " [[ 5  6  7  8  9]]\n",
      "\n",
      " [[10 11 12 13 14]]]\n",
      "[ 0  1  2  3  4  5  6  7  8  9 10 11 12 13 14]\n",
      "[[ 0]\n",
      " [ 1]\n",
      " [ 2]\n",
      " [ 3]\n",
      " [ 4]\n",
      " [ 5]\n",
      " [ 6]\n",
      " [ 7]\n",
      " [ 8]\n",
      " [ 9]\n",
      " [10]\n",
      " [11]\n",
      " [12]\n",
      " [13]\n",
      " [14]]\n"
     ]
    },
    {
     "data": {
      "text/plain": [
       "(15, 1)"
      ]
     },
     "execution_count": 30,
     "metadata": {},
     "output_type": "execute_result"
    }
   ],
   "source": [
    "import numpy as np\n",
    "\n",
    "print(np.newaxis == None)\n",
    "x = np.arange(15).reshape((3, 5))\n",
    "print(x)\n",
    "print(x[np.newaxis, :, : ])\n",
    "print(x[:, np.newaxis, : ])\n",
    "print(x[:, None, : ])\n",
    "x = x.flatten()\n",
    "print(x)\n",
    "print(x[:, np.newaxis])\n",
    "x[:, np.newaxis].shape\n"
   ]
  },
  {
   "cell_type": "code",
   "execution_count": 22,
   "metadata": {},
   "outputs": [
    {
     "name": "stdout",
     "output_type": "stream",
     "text": [
      "[[ 0  1  2  3  4]\n",
      " [ 5  6  7  8  9]\n",
      " [10 11 12 13 14]]\n",
      "[[[ 0  1  2  3  4]\n",
      "  [ 5  6  7  8  9]\n",
      "  [10 11 12 13 14]]]\n",
      "[[[ 0  1  2  3  4]]\n",
      "\n",
      " [[ 5  6  7  8  9]]\n",
      "\n",
      " [[10 11 12 13 14]]]\n"
     ]
    },
    {
     "data": {
      "text/plain": [
       "array([[ 0],\n",
       "       [ 1],\n",
       "       [ 2],\n",
       "       [ 3],\n",
       "       [ 4],\n",
       "       [ 5],\n",
       "       [ 6],\n",
       "       [ 7],\n",
       "       [ 8],\n",
       "       [ 9],\n",
       "       [10],\n",
       "       [11],\n",
       "       [12],\n",
       "       [13],\n",
       "       [14]])"
      ]
     },
     "execution_count": 22,
     "metadata": {},
     "output_type": "execute_result"
    }
   ],
   "source": [
    "x = np.arange(15).reshape((3, 5))\n",
    "print(x)\n",
    "print(np.reshape(x, (1, 3, 5)))\n",
    "print(np.reshape(x, (3, 1, 5)))\n",
    "x = x.flatten()\n",
    "np.reshape(x, (-1, 1))"
   ]
  },
  {
   "cell_type": "markdown",
   "metadata": {},
   "source": [
    "## 2-21 陣列合併-np.r_與np.c_物件"
   ]
  },
  {
   "cell_type": "code",
   "execution_count": 5,
   "metadata": {},
   "outputs": [
    {
     "name": "stdout",
     "output_type": "stream",
     "text": [
      "[1 2 3 4 5 6]\n",
      "[2.  5.  3.  2.  3.  4.2]\n",
      "[[0. 0. 0.]\n",
      " [0. 0. 0.]\n",
      " [1. 1. 1.]\n",
      " [1. 1. 1.]\n",
      " [1. 1. 1.]]\n"
     ]
    }
   ],
   "source": [
    "import numpy as np\n",
    "\n",
    "a = np.array([1, 2, 3])\n",
    "b = np.array([4, 5, 6])\n",
    "print(np.r_[a, b])\n",
    "print(np.r_[2, 5, 3, np.array([2, 3]), 4.2])\n",
    "c = np.zeros((2, 3))\n",
    "d = np.ones((3, 3))\n",
    "print(np.r_[c, d])\n",
    "d = np.ones((3, 4))\n",
    "# np.r_[c, d]"
   ]
  },
  {
   "cell_type": "code",
   "execution_count": 12,
   "metadata": {},
   "outputs": [
    {
     "name": "stdout",
     "output_type": "stream",
     "text": [
      "[[1. 1. 0. 0.]\n",
      " [1. 1. 0. 0.]]\n",
      "(2, 4)\n",
      "[[1. 1.]\n",
      " [1. 1.]\n",
      " [0. 0.]\n",
      " [0. 0.]]\n",
      "(4, 2)\n"
     ]
    },
    {
     "data": {
      "text/plain": [
       "(4, 2)"
      ]
     },
     "execution_count": 12,
     "metadata": {},
     "output_type": "execute_result"
    }
   ],
   "source": [
    "a = np.ones((2, 2))\n",
    "b = np.zeros((2, 2))\n",
    "print(np.r_[\"1\", a, b])\n",
    "print(np.r_[\"1\", a, b].shape)\n",
    "print(np.r_[\"0\", a, b])\n",
    "print(np.r_[\"0\", a, b].shape)\n",
    "np.r_[a, b].shape"
   ]
  },
  {
   "cell_type": "code",
   "execution_count": 39,
   "metadata": {},
   "outputs": [
    {
     "name": "stdout",
     "output_type": "stream",
     "text": [
      "[[[1. 1.]\n",
      "  [1. 1.]]\n",
      "\n",
      " [[1. 1.]\n",
      "  [1. 1.]]]\n",
      "[[[0. 0.]\n",
      "  [0. 0.]]\n",
      "\n",
      " [[0. 0.]\n",
      "  [0. 0.]]]\n",
      "[[[1. 1.]\n",
      "  [1. 1.]]\n",
      "\n",
      " [[1. 1.]\n",
      "  [1. 1.]]\n",
      "\n",
      " [[0. 0.]\n",
      "  [0. 0.]]\n",
      "\n",
      " [[0. 0.]\n",
      "  [0. 0.]]]\n",
      "[[[1. 1.]\n",
      "  [1. 1.]\n",
      "  [0. 0.]\n",
      "  [0. 0.]]\n",
      "\n",
      " [[1. 1.]\n",
      "  [1. 1.]\n",
      "  [0. 0.]\n",
      "  [0. 0.]]]\n",
      "[[[1. 1. 0. 0.]\n",
      "  [1. 1. 0. 0.]]\n",
      "\n",
      " [[1. 1. 0. 0.]\n",
      "  [1. 1. 0. 0.]]]\n",
      "(4, 2, 2)\n",
      "(2, 4, 2)\n",
      "(2, 2, 4)\n"
     ]
    }
   ],
   "source": [
    "c = np.ones((2, 2, 2))\n",
    "d = np.zeros((2, 2, 2))\n",
    "print(c)\n",
    "print(d)\n",
    "print(np.r_[\"0\", c, d])\n",
    "print(np.r_[\"1\", c, d])\n",
    "print(np.r_[\"2\", c, d])\n",
    "print(np.r_[\"0\", c, d].shape)\n",
    "print(np.r_[\"1\", c, d].shape)\n",
    "print(np.r_[\"2\", c, d].shape)"
   ]
  },
  {
   "cell_type": "code",
   "execution_count": 20,
   "metadata": {},
   "outputs": [
    {
     "name": "stdout",
     "output_type": "stream",
     "text": [
      "[[0 1 2]\n",
      " [3 3 3]]\n"
     ]
    },
    {
     "data": {
      "text/plain": [
       "(2, 3)"
      ]
     },
     "execution_count": 20,
     "metadata": {},
     "output_type": "execute_result"
    }
   ],
   "source": [
    "print(np.r_[\"0, 2\", [0, 1, 2], [3, 3, 3]])\n",
    "np.r_[\"0, 2\", [0, 1, 2], [3, 3, 3]].shape"
   ]
  },
  {
   "cell_type": "code",
   "execution_count": 35,
   "metadata": {},
   "outputs": [
    {
     "name": "stdout",
     "output_type": "stream",
     "text": [
      "[[[0 1 2]]\n",
      "\n",
      " [[3 3 3]]]\n"
     ]
    },
    {
     "data": {
      "text/plain": [
       "(2, 1, 3)"
      ]
     },
     "execution_count": 35,
     "metadata": {},
     "output_type": "execute_result"
    }
   ],
   "source": [
    "print(np.r_[\"0, 3\", [0, 1, 2], [3, 3, 3]])\n",
    "np.r_[\"0, 3\", [0, 1, 2], [3, 3, 3]].shape"
   ]
  },
  {
   "cell_type": "code",
   "execution_count": 29,
   "metadata": {},
   "outputs": [
    {
     "name": "stdout",
     "output_type": "stream",
     "text": [
      "[[0 1 2]\n",
      " [3 3 3]]\n",
      "(2, 3)\n",
      "[[0]\n",
      " [1]\n",
      " [2]\n",
      " [3]\n",
      " [3]\n",
      " [3]]\n",
      "(6, 1)\n",
      "[[[0]]\n",
      "\n",
      " [[1]]\n",
      "\n",
      " [[2]]\n",
      "\n",
      " [[3]]\n",
      "\n",
      " [[3]]\n",
      "\n",
      " [[3]]]\n",
      "(6, 1, 1)\n"
     ]
    }
   ],
   "source": [
    "print(np.r_[\"0, 2, -1\", [0, 1, 2], [3, 3, 3]])\n",
    "print(np.r_[\"0, 2, -1\", [0, 1, 2], [3, 3, 3]].shape)\n",
    "print(np.r_[\"0, 2, 0\", [0, 1, 2], [3, 3, 3]])\n",
    "print(np.r_[\"0, 2, 0\", [0, 1, 2], [3, 3, 3]].shape)\n",
    "print(np.r_[\"0, 3, 0\", [0, 1, 2], [3, 3, 3]])\n",
    "print(np.r_[\"0, 3, 0\", [0, 1, 2], [3, 3, 3]].shape)"
   ]
  },
  {
   "cell_type": "code",
   "execution_count": 44,
   "metadata": {},
   "outputs": [
    {
     "name": "stdout",
     "output_type": "stream",
     "text": [
      "[0 1 2 3 4 5 6 7 8 9]\n",
      "[0 1 2 3 4 5 6 7 8 9]\n",
      "[0 2 4 6 8]\n",
      "[10  9  8  7  6  5  4  3  2  1]\n"
     ]
    },
    {
     "data": {
      "text/plain": [
       "array([0, 1, 2, 3, 4, 5, 6, 7, 8, 9, 0, 4, 3, 3])"
      ]
     },
     "execution_count": 44,
     "metadata": {},
     "output_type": "execute_result"
    }
   ],
   "source": [
    "print(np.r_[0: 10])\n",
    "print(np.r_[: 10])\n",
    "print(np.r_[0: 10: 2])\n",
    "print(np.r_[10: 0: -1])\n",
    "np.r_[0: 10, 0, 4, np.array([3, 3])]"
   ]
  },
  {
   "cell_type": "code",
   "execution_count": 48,
   "metadata": {},
   "outputs": [
    {
     "name": "stdout",
     "output_type": "stream",
     "text": [
      "[[1 4 6 2 2 2]]\n",
      "[[1]\n",
      " [4]\n",
      " [6]\n",
      " [2]\n",
      " [2]\n",
      " [2]]\n",
      "[[1. 1. 1. 1. 1.]\n",
      " [1. 1. 1. 1. 1.]\n",
      " [1. 1. 1. 1. 1.]\n",
      " [1. 1. 1. 1. 1.]\n",
      " [0. 0. 0. 0. 0.]\n",
      " [0. 0. 0. 0. 0.]]\n"
     ]
    },
    {
     "data": {
      "text/plain": [
       "matrix([[1., 1., 1., 1., 1.],\n",
       "        [1., 1., 1., 1., 1.],\n",
       "        [1., 1., 1., 1., 1.],\n",
       "        [1., 1., 1., 1., 1.],\n",
       "        [0., 0., 0., 0., 0.],\n",
       "        [0., 0., 0., 0., 0.]])"
      ]
     },
     "execution_count": 48,
     "metadata": {},
     "output_type": "execute_result"
    }
   ],
   "source": [
    "a = np.array([1, 4, 6])\n",
    "b = np.array([2, 2, 2])\n",
    "print(np.r_[\"r\", a, b])\n",
    "print(np.r_[\"c\", a, b])\n",
    "c = np.ones((4, 5))\n",
    "d = np.zeros((2, 5))\n",
    "print(np.r_[\"r\", c, d])\n",
    "np.r_[\"c\", c, d]"
   ]
  },
  {
   "cell_type": "code",
   "execution_count": 4,
   "metadata": {},
   "outputs": [
    {
     "name": "stdout",
     "output_type": "stream",
     "text": [
      "[[1. 1.]\n",
      " [1. 1.]\n",
      " [1. 1.]]\n",
      "[[0. 0. 0.]\n",
      " [0. 0. 0.]\n",
      " [0. 0. 0.]]\n",
      "[[1. 1. 0. 0. 0.]\n",
      " [1. 1. 0. 0. 0.]\n",
      " [1. 1. 0. 0. 0.]]\n",
      "[0. 0. 0.]\n",
      "[[1. 1. 0.]\n",
      " [1. 1. 0.]\n",
      " [1. 1. 0.]]\n",
      "(3, 3)\n"
     ]
    }
   ],
   "source": [
    "a = np.ones((3, 2))\n",
    "b = np.zeros((3, 3))\n",
    "print(a)\n",
    "print(b)\n",
    "print(np.c_[a, b])\n",
    "c = np.zeros(3)\n",
    "print(c)\n",
    "print(np.c_[a, c])\n",
    "print(np.c_[a, c].shape)"
   ]
  },
  {
   "cell_type": "markdown",
   "metadata": {},
   "source": [
    "## 2-22 陣列的儲存與讀取-save()與load()"
   ]
  },
  {
   "cell_type": "code",
   "execution_count": 20,
   "metadata": {},
   "outputs": [
    {
     "name": "stdout",
     "output_type": "stream",
     "text": [
      "[[ 1.59381442  0.71749376  0.46432964 ...  1.10729264 -0.12092493\n",
      "   0.03225502]\n",
      " [ 0.49782159 -0.24461332  0.47723178 ... -0.03223724 -0.7591109\n",
      "  -0.39976959]\n",
      " [ 0.74044124 -0.36142158  0.22600279 ...  0.68022331  0.18171827\n",
      "  -1.01056732]\n",
      " ...\n",
      " [-0.7166352  -0.67839424 -0.38216139 ...  0.64734888  0.6943135\n",
      "  -0.50653059]\n",
      " [-0.4485594  -1.14298355  0.20031743 ...  0.92012527 -0.56289976\n",
      "   1.62570411]\n",
      " [ 1.0369156  -0.35254679  0.1180715  ... -1.02090399 -1.38446189\n",
      "  -2.65322767]]\n"
     ]
    },
    {
     "data": {
      "text/plain": [
       "(12, 20, 40)"
      ]
     },
     "execution_count": 20,
     "metadata": {},
     "output_type": "execute_result"
    }
   ],
   "source": [
    "import numpy as np\n",
    "\n",
    "a = np.random.randn(1200 * 1000).reshape(1200, -1) # randn就是以0為中心、標準差為1，所以會有正負數 # rand則是0~1\n",
    "np.save(\"a.npy\", a)\n",
    "print(np.load(\"a.npy\"))\n",
    "c = np.random.randn(12 * 20 * 40).reshape((12, 20, 40))\n",
    "np.save(\"c.npy\", c)\n",
    "d = np.load(\"c.npy\")\n",
    "d.shape"
   ]
  },
  {
   "cell_type": "markdown",
   "metadata": {},
   "source": [
    "## 2-23 以文字格式儲存、讀取陣列內容-savetxt()與loadtxt()"
   ]
  },
  {
   "cell_type": "code",
   "execution_count": 4,
   "metadata": {},
   "outputs": [
    {
     "name": "stdout",
     "output_type": "stream",
     "text": [
      "[[ 1.01728634  1.51464919 -0.24714715 -0.54425527]\n",
      " [ 0.24253792 -0.83579983  0.41615418 -1.66673987]\n",
      " [-0.22673589 -2.20977142 -0.43332947  1.17846599]]\n",
      "[[ 1.01728634  1.51464919 -0.24714715 -0.54425527]\n",
      " [ 0.24253792 -0.83579983  0.41615418 -1.66673987]\n",
      " [-0.22673589 -2.20977142 -0.43332947  1.17846599]]\n"
     ]
    },
    {
     "data": {
      "text/plain": [
       "array([[ 1.01728634,  1.51464919, -0.24714715, -0.54425527],\n",
       "       [ 0.24253792, -0.83579983,  0.41615418, -1.66673987],\n",
       "       [-0.22673589, -2.20977142, -0.43332947,  1.17846599]])"
      ]
     },
     "execution_count": 4,
     "metadata": {},
     "output_type": "execute_result"
    }
   ],
   "source": [
    "import numpy as np\n",
    "\n",
    "a = np.random.randn(3, 4)\n",
    "np.savetxt(\"sample1.txt\", a)\n",
    "b = np.loadtxt(\"sample1.txt\")\n",
    "print(a)\n",
    "print(b)\n",
    "np.savetxt(\"sample1.csv\", a)\n",
    "c = np.loadtxt(\"sample1.csv\")\n",
    "c"
   ]
  },
  {
   "cell_type": "code",
   "execution_count": 26,
   "metadata": {},
   "outputs": [],
   "source": [
    "np.savetxt(\"sample2.txt\", a, delimiter = \",\")"
   ]
  },
  {
   "cell_type": "code",
   "execution_count": 31,
   "metadata": {},
   "outputs": [
    {
     "data": {
      "text/plain": [
       "array([[ 0.6798412 ,  0.01410413,  1.66696495,  2.08897898],\n",
       "       [ 1.86969266, -0.52541878, -0.6589359 , -0.2723675 ],\n",
       "       [ 1.30107773,  0.34341242, -1.16941115,  0.08349848]])"
      ]
     },
     "execution_count": 31,
     "metadata": {},
     "output_type": "execute_result"
    }
   ],
   "source": [
    "# e = np.loadtxt(\"sample2.txt\")\n",
    "e = np.loadtxt(\"sample2.txt\", delimiter = \",\")\n",
    "e"
   ]
  },
  {
   "cell_type": "code",
   "execution_count": 2,
   "metadata": {},
   "outputs": [
    {
     "data": {
      "text/plain": [
       "array([[2024.,    4.,    4.],\n",
       "       [2003.,    3.,   12.]])"
      ]
     },
     "execution_count": 2,
     "metadata": {},
     "output_type": "execute_result"
    }
   ],
   "source": [
    "import numpy as np\n",
    "\n",
    "sam1 = np.array([2024, 4, 4])\n",
    "sam2 = np.array([2003, 3, 12])\n",
    "sam_final = np.r_[\"0, 2\", sam1, sam2]\n",
    "\n",
    "np.savetxt(\"Important.txt\", sam_final, fmt = \"%d\")\n",
    "np.loadtxt(\"Important.txt\")"
   ]
  },
  {
   "cell_type": "code",
   "execution_count": 6,
   "metadata": {},
   "outputs": [],
   "source": [
    "np.savetxt(\"sample3.txt\", a, fmt = \"%.2e\")\n",
    "np.savetxt(\"sample4.txt\", a, fmt = \"%.2f\")"
   ]
  },
  {
   "cell_type": "code",
   "execution_count": 12,
   "metadata": {},
   "outputs": [
    {
     "data": {
      "text/plain": [
       "array([[ 1.017 ,  1.515 , -0.2471, -0.5443],\n",
       "       [ 0.2425, -0.8358,  0.4162, -1.667 ],\n",
       "       [-0.2267, -2.21  , -0.4333,  1.178 ]])"
      ]
     },
     "execution_count": 12,
     "metadata": {},
     "output_type": "execute_result"
    }
   ],
   "source": [
    "np.savetxt(\"sample5.txt\", a, fmt = \"%.3e\", header = \"this is a header\", footer = \"this is a footer\")\n",
    "np.savetxt(\"sample6.txt\", a, fmt = \"%.3e\", \n",
    "           header = \"This is a header\", footer = \"this is a footer\", comments = \">>>\")\n",
    "np.loadtxt(\"sample6.txt\", comments = \">>>\")"
   ]
  },
  {
   "cell_type": "code",
   "execution_count": 20,
   "metadata": {},
   "outputs": [
    {
     "name": "stdout",
     "output_type": "stream",
     "text": [
      "[[ 1.02 -0.25]\n",
      " [ 0.24  0.42]\n",
      " [-0.23 -0.43]]\n"
     ]
    },
    {
     "data": {
      "text/plain": [
       "array([[ 0.24, -0.84,  0.42, -1.67],\n",
       "       [-0.23, -2.21, -0.43,  1.18]])"
      ]
     },
     "execution_count": 20,
     "metadata": {},
     "output_type": "execute_result"
    }
   ],
   "source": [
    "print(np.loadtxt(\"sample4.txt\", usecols = (0, 2)))\n",
    "np.loadtxt(\"sample4.txt\", skiprows = 1)"
   ]
  },
  {
   "cell_type": "code",
   "execution_count": 35,
   "metadata": {},
   "outputs": [
    {
     "data": {
      "text/plain": [
       "array([(18, b'female', 154.1, b'No'), (21, b'male', 172.3, b'Yes'),\n",
       "       (22, b'female', 160.8, b'Yes'), (23, b'male', 180.1, b'Yes'),\n",
       "       (25, b'female', 145. , b'No')],\n",
       "      dtype=[('col0', '<i8'), ('col1', 'S10'), ('col2', '<f8'), ('col3', 'S10')])"
      ]
     },
     "execution_count": 35,
     "metadata": {},
     "output_type": "execute_result"
    }
   ],
   "source": [
    "np.loadtxt(\"foo.csv\", dtype = [(\"col0\", \"i8\"), \n",
    "                               (\"col1\", \"S10\"), \n",
    "                               (\"col2\", \"f8\"), \n",
    "                               (\"col3\", \"S10\")])"
   ]
  },
  {
   "cell_type": "code",
   "execution_count": 25,
   "metadata": {},
   "outputs": [
    {
     "data": {
      "text/plain": [
       "[array([18, 21, 22, 23, 25], dtype=int64),\n",
       " array([b'female', b'male', b'female', b'male', b'female'], dtype='|S10'),\n",
       " array([154.1, 172.3, 160.8, 180.1, 145. ]),\n",
       " array([b'No', b'Yes', b'Yes', b'Yes', b'No'], dtype='|S10')]"
      ]
     },
     "execution_count": 25,
     "metadata": {},
     "output_type": "execute_result"
    }
   ],
   "source": [
    "np.loadtxt(\"foo.csv\", dtype = [(\"col0\", \"i8\"), \n",
    "                               (\"col1\", \"S10\"), \n",
    "                               (\"col2\", \"f8\"), \n",
    "                               (\"col3\", \"S10\")], unpack = True)"
   ]
  },
  {
   "cell_type": "code",
   "execution_count": 29,
   "metadata": {},
   "outputs": [
    {
     "name": "stdout",
     "output_type": "stream",
     "text": [
      "[18 21 22 23 25]\n",
      "[b'female' b'male' b'female' b'male' b'female']\n",
      "[154.1 172.3 160.8 180.1 145. ]\n"
     ]
    },
    {
     "data": {
      "text/plain": [
       "array([b'No', b'Yes', b'Yes', b'Yes', b'No'], dtype='|S10')"
      ]
     },
     "execution_count": 29,
     "metadata": {},
     "output_type": "execute_result"
    }
   ],
   "source": [
    "age, gender, tall, driver_license = np.loadtxt(\"foo.csv\", dtype = [(\"col0\", \"i8\"), \n",
    "                               (\"col1\", \"S10\"), \n",
    "                               (\"col2\", \"f8\"), \n",
    "                               (\"col3\", \"S10\")], unpack = True)\n",
    "print(age)\n",
    "print(gender)\n",
    "print(tall)\n",
    "driver_license"
   ]
  },
  {
   "cell_type": "code",
   "execution_count": 4,
   "metadata": {},
   "outputs": [
    {
     "data": {
      "text/plain": [
       "array([[ 18. ,  -1. , 154.1,  -1. ],\n",
       "       [ 21. ,   1. , 172.3,   1. ],\n",
       "       [ 22. ,  -1. , 160.8,   1. ],\n",
       "       [ 23. ,   1. , 180.1,   1. ],\n",
       "       [ 25. ,  -1. , 145. ,  -1. ]])"
      ]
     },
     "execution_count": 4,
     "metadata": {},
     "output_type": "execute_result"
    }
   ],
   "source": [
    "import numpy as np\n",
    "\n",
    "def driver_license(str):\n",
    "    if str == b\"Yes\":\n",
    "        return 1\n",
    "    else:\n",
    "        return -1\n",
    "    \n",
    "def gender(str):\n",
    "    if str == b\"male\":\n",
    "        return 1\n",
    "    else:\n",
    "        return -1\n",
    "    \n",
    "np.loadtxt(\"foo.csv\", converters = {1: gender, \n",
    "                                    3: driver_license})"
   ]
  },
  {
   "cell_type": "markdown",
   "metadata": {},
   "source": [
    "## 2-24 建立隨機亂數的陣列-random模組"
   ]
  },
  {
   "cell_type": "code",
   "execution_count": 1,
   "metadata": {},
   "outputs": [
    {
     "name": "stdout",
     "output_type": "stream",
     "text": [
      "0.8388159149610774\n",
      "1\n",
      "[[0.28509646 0.55301128 0.31365814]\n",
      " [0.63796902 0.62892784 0.2568477 ]]\n"
     ]
    },
    {
     "data": {
      "text/plain": [
       "array([[5, 5, 7],\n",
       "       [3, 2, 6]])"
      ]
     },
     "execution_count": 1,
     "metadata": {},
     "output_type": "execute_result"
    }
   ],
   "source": [
    "import numpy as np\n",
    "\n",
    "print(np.random.rand())\n",
    "print(np.random.randint(10))\n",
    "print(np.random.rand(2, 3))\n",
    "np.random.randint(10, size = (2, 3))"
   ]
  },
  {
   "cell_type": "code",
   "execution_count": 18,
   "metadata": {},
   "outputs": [
    {
     "name": "stdout",
     "output_type": "stream",
     "text": [
      "[5 9 8 9 9 9 8 8 7 8]\n"
     ]
    },
    {
     "data": {
      "text/plain": [
       "array([5.02171151, 9.13619466, 6.5397231 , 8.58297968, 8.31269555,\n",
       "       7.96621685, 9.80860451, 8.24020857, 5.51241531, 9.45959625])"
      ]
     },
     "execution_count": 18,
     "metadata": {},
     "output_type": "execute_result"
    }
   ],
   "source": [
    "print(np.random.randint(5, 10, size = 10))\n",
    "(10 - 5) * np.random.rand(10) + 5"
   ]
  },
  {
   "cell_type": "code",
   "execution_count": 26,
   "metadata": {},
   "outputs": [
    {
     "name": "stdout",
     "output_type": "stream",
     "text": [
      "0.04872488080912729\n",
      "0.04872488080912729\n",
      "[0.77132064 0.02075195 0.63364823 0.74880388 0.49850701 0.22479665\n",
      " 0.19806286 0.76053071 0.16911084 0.08833981 0.68535982 0.95339335\n",
      " 0.00394827 0.51219226 0.81262096 0.61252607 0.72175532 0.29187607\n",
      " 0.91777412 0.71457578]\n",
      "[0.51729788 0.9469626  0.76545976 0.28239584 0.22104536 0.68622209\n",
      " 0.1671392  0.39244247 0.61805235 0.41193009 0.00246488 0.88403218\n",
      " 0.88494754 0.30040969 0.58958187 0.97842692 0.84509382 0.06507544\n",
      " 0.29474446 0.28793444]\n",
      "[0.77132064 0.02075195 0.63364823 0.74880388 0.49850701 0.22479665\n",
      " 0.19806286 0.76053071 0.16911084 0.08833981 0.68535982 0.95339335\n",
      " 0.00394827 0.51219226 0.81262096 0.61252607 0.72175532 0.29187607\n",
      " 0.91777412 0.71457578]\n"
     ]
    },
    {
     "data": {
      "text/plain": [
       "array([0.51729788, 0.9469626 , 0.76545976, 0.28239584, 0.22104536,\n",
       "       0.68622209, 0.1671392 , 0.39244247, 0.61805235, 0.41193009,\n",
       "       0.00246488, 0.88403218, 0.88494754, 0.30040969, 0.58958187,\n",
       "       0.97842692, 0.84509382, 0.06507544, 0.29474446, 0.28793444])"
      ]
     },
     "execution_count": 26,
     "metadata": {},
     "output_type": "execute_result"
    }
   ],
   "source": [
    "np.random.seed(seed = 21)\n",
    "print(np.random.rand())\n",
    "np.random.seed(21)\n",
    "print(np.random.rand())\n",
    "np.random.seed(10)\n",
    "print(np.random.rand(20))\n",
    "np.random.seed(23)\n",
    "print(np.random.rand(20))\n",
    "np.random.seed(10)\n",
    "print(np.random.rand(20))\n",
    "np.random.seed(23)\n",
    "np.random.rand(20)"
   ]
  },
  {
   "cell_type": "code",
   "execution_count": 42,
   "metadata": {},
   "outputs": [
    {
     "name": "stdout",
     "output_type": "stream",
     "text": [
      "['Java' 'Ruby' 'PHP']\n",
      "['JavaScript' 'Ruby' 'Java' 'Python' 'PHP']\n",
      "['Python' 'PHP' 'Python' 'Python' 'Python' 'Python' 'Python' 'JavaScript'\n",
      " 'Python' 'Python' 'Python' 'Python' 'Python' 'Python' 'Python' 'Python'\n",
      " 'Python' 'Python' 'Python' 'Python']\n"
     ]
    },
    {
     "data": {
      "text/plain": [
       "array([4, 4, 0, 2, 3, 4, 2, 1, 3, 3])"
      ]
     },
     "execution_count": 42,
     "metadata": {},
     "output_type": "execute_result"
    }
   ],
   "source": [
    "a = [\"Python\", \"Ruby\", \"Java\", \"JavaScript\", \"PHP\"]\n",
    "print(np.random.choice(a, 3))\n",
    "print(np.random.choice(a, 5, replace = False))\n",
    "print(np.random.choice(a, 20, p = [0.8, 0.05, 0.05, 0.05, 0.05]))\n",
    "np.random.choice(5, 10)"
   ]
  },
  {
   "cell_type": "code",
   "execution_count": 46,
   "metadata": {},
   "outputs": [
    {
     "name": "stdout",
     "output_type": "stream",
     "text": [
      "[0 1 2 3 4 5 6 7 8 9]\n"
     ]
    },
    {
     "data": {
      "text/plain": [
       "array([3, 5, 7, 1, 6, 8, 4, 2, 0, 9])"
      ]
     },
     "execution_count": 46,
     "metadata": {},
     "output_type": "execute_result"
    }
   ],
   "source": [
    "a = np.arange(10)\n",
    "print(a)\n",
    "np.random.shuffle(a)\n",
    "a"
   ]
  }
 ],
 "metadata": {
  "kernelspec": {
   "display_name": "Python 3",
   "language": "python",
   "name": "python3"
  },
  "language_info": {
   "codemirror_mode": {
    "name": "ipython",
    "version": 3
   },
   "file_extension": ".py",
   "mimetype": "text/x-python",
   "name": "python",
   "nbconvert_exporter": "python",
   "pygments_lexer": "ipython3",
   "version": "3.11.5"
  }
 },
 "nbformat": 4,
 "nbformat_minor": 2
}
